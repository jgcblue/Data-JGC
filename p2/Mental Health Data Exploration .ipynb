{
 "cells": [
  {
   "cell_type": "markdown",
   "id": "0dd79854",
   "metadata": {
    "toc": true
   },
   "source": [
    "<h1>Table of Contents<span class=\"tocSkip\"></span></h1>\n",
    "<div class=\"toc\"><ul class=\"toc-item\"><li><span><a href=\"#Introduction\" data-toc-modified-id=\"Introduction-1\"><span class=\"toc-item-num\">1&nbsp;&nbsp;</span>Introduction</a></span><ul class=\"toc-item\"><li><span><a href=\"#Importing-the-data-set-and-a-cursory-examination\" data-toc-modified-id=\"Importing-the-data-set-and-a-cursory-examination-1.1\"><span class=\"toc-item-num\">1.1&nbsp;&nbsp;</span>Importing the data set and a cursory examination</a></span></li><li><span><a href=\"#Focusing-on-Schizophrenia.\" data-toc-modified-id=\"Focusing-on-Schizophrenia.-1.2\"><span class=\"toc-item-num\">1.2&nbsp;&nbsp;</span>Focusing on Schizophrenia.</a></span></li><li><span><a href=\"#Focusing-on-Schizophrenia,-Alcoholism-and-Depression\" data-toc-modified-id=\"Focusing-on-Schizophrenia,-Alcoholism-and-Depression-1.3\"><span class=\"toc-item-num\">1.3&nbsp;&nbsp;</span>Focusing on Schizophrenia, Alcoholism and Depression</a></span><ul class=\"toc-item\"><li><span><a href=\"#Aside-on-long-column-names:\" data-toc-modified-id=\"Aside-on-long-column-names:-1.3.1\"><span class=\"toc-item-num\">1.3.1&nbsp;&nbsp;</span>Aside on long column names:</a></span></li></ul></li><li><span><a href=\"#Subframe-of-United-States-Entries\" data-toc-modified-id=\"Subframe-of-United-States-Entries-1.4\"><span class=\"toc-item-num\">1.4&nbsp;&nbsp;</span>Subframe of United States Entries</a></span></li><li><span><a href=\"#Pickle-and-DataFrames\" data-toc-modified-id=\"Pickle-and-DataFrames-1.5\"><span class=\"toc-item-num\">1.5&nbsp;&nbsp;</span>Pickle and DataFrames</a></span></li></ul></li><li><span><a href=\"#Pickling-the-United-States-Dataframe\" data-toc-modified-id=\"Pickling-the-United-States-Dataframe-2\"><span class=\"toc-item-num\">2&nbsp;&nbsp;</span>Pickling the United States Dataframe</a></span><ul class=\"toc-item\"><li><span><a href=\"#Bringing-In-A-New-Dataset\" data-toc-modified-id=\"Bringing-In-A-New-Dataset-2.1\"><span class=\"toc-item-num\">2.1&nbsp;&nbsp;</span>Bringing In A New Dataset</a></span></li><li><span><a href=\"#Merging-Data-sets\" data-toc-modified-id=\"Merging-Data-sets-2.2\"><span class=\"toc-item-num\">2.2&nbsp;&nbsp;</span>Merging Data sets</a></span><ul class=\"toc-item\"><li><span><a href=\"#Dropping-the-Entity\" data-toc-modified-id=\"Dropping-the-Entity-2.2.1\"><span class=\"toc-item-num\">2.2.1&nbsp;&nbsp;</span>Dropping the Entity</a></span></li></ul></li><li><span><a href=\"#Models-to-Try-(Random-Forest)\" data-toc-modified-id=\"Models-to-Try-(Random-Forest)-2.3\"><span class=\"toc-item-num\">2.3&nbsp;&nbsp;</span>Models to Try (Random Forest)</a></span></li><li><span><a href=\"#Arima-Model:\" data-toc-modified-id=\"Arima-Model:-2.4\"><span class=\"toc-item-num\">2.4&nbsp;&nbsp;</span>Arima Model:</a></span></li></ul></li></ul></div>"
   ]
  },
  {
   "cell_type": "markdown",
   "id": "8912ab7a",
   "metadata": {},
   "source": [
    "# Introduction\n",
    "\n",
    "\n",
    "Welcome to our notebook analyzing mental health data. Herein we will be working through various techniques in data analysis and/or [data science](https://en.wikipedia.org/wiki/Data_science). The datasets were found by the author on Kaggle. Please contact me for further information at Jose.gj.chavez@gmail.com"
   ]
  },
  {
   "cell_type": "code",
   "execution_count": 1,
   "id": "c0f11827",
   "metadata": {
    "ExecuteTime": {
     "end_time": "2023-08-05T02:45:02.775923Z",
     "start_time": "2023-08-05T02:45:02.656907Z"
    }
   },
   "outputs": [
    {
     "name": "stdout",
     "output_type": "stream",
     "text": [
      "/Users/josechavez/WEB/jc_micro_projects/dataSnA/projectUno/notebooks\r\n"
     ]
    }
   ],
   "source": [
    "!pwd"
   ]
  },
  {
   "cell_type": "markdown",
   "id": "1588b83f",
   "metadata": {},
   "source": [
    "![Image](mentalData.jpeg)\n"
   ]
  },
  {
   "cell_type": "markdown",
   "id": "2f03d314",
   "metadata": {},
   "source": [
    "## Importing the data set and a cursory examination\n",
    "\n",
    "We import the necessary libraries (pandas as you may expect) and read in our csv data. Then we print using the head function with its default values (5) and print the columns of the dataframe. \n"
   ]
  },
  {
   "cell_type": "code",
   "execution_count": 2,
   "id": "e1702fd9",
   "metadata": {
    "ExecuteTime": {
     "end_time": "2023-08-05T02:45:03.185089Z",
     "start_time": "2023-08-05T02:45:02.778056Z"
    }
   },
   "outputs": [
    {
     "name": "stdout",
     "output_type": "stream",
     "text": [
      "        Entity Code  Year  \\\n",
      "0  Afghanistan  AFG  1990   \n",
      "1  Afghanistan  AFG  1991   \n",
      "2  Afghanistan  AFG  1992   \n",
      "3  Afghanistan  AFG  1993   \n",
      "4  Afghanistan  AFG  1994   \n",
      "\n",
      "   Prevalence - Schizophrenia - Sex: Both - Age: Age-standardized (Percent)  \\\n",
      "0                                           0.228979                          \n",
      "1                                           0.228120                          \n",
      "2                                           0.227328                          \n",
      "3                                           0.226468                          \n",
      "4                                           0.225567                          \n",
      "\n",
      "   Prevalence - Bipolar disorder - Sex: Both - Age: Age-standardized (Percent)  \\\n",
      "0                                           0.721207                             \n",
      "1                                           0.719952                             \n",
      "2                                           0.718418                             \n",
      "3                                           0.717452                             \n",
      "4                                           0.717012                             \n",
      "\n",
      "   Prevalence - Eating disorders - Sex: Both - Age: Age-standardized (Percent)  \\\n",
      "0                                           0.131001                             \n",
      "1                                           0.126395                             \n",
      "2                                           0.121832                             \n",
      "3                                           0.117942                             \n",
      "4                                           0.114547                             \n",
      "\n",
      "   Prevalence - Anxiety disorders - Sex: Both - Age: Age-standardized (Percent)  \\\n",
      "0                                           4.835127                              \n",
      "1                                           4.821765                              \n",
      "2                                           4.801434                              \n",
      "3                                           4.789363                              \n",
      "4                                           4.784923                              \n",
      "\n",
      "   Prevalence - Drug use disorders - Sex: Both - Age: Age-standardized (Percent)  \\\n",
      "0                                           0.454202                               \n",
      "1                                           0.447112                               \n",
      "2                                           0.441190                               \n",
      "3                                           0.435581                               \n",
      "4                                           0.431822                               \n",
      "\n",
      "   Prevalence - Depressive disorders - Sex: Both - Age: Age-standardized (Percent)  \\\n",
      "0                                           5.125291                                 \n",
      "1                                           5.116306                                 \n",
      "2                                           5.106558                                 \n",
      "3                                           5.100328                                 \n",
      "4                                           5.099424                                 \n",
      "\n",
      "   Prevalence - Alcohol use disorders - Sex: Both - Age: Age-standardized (Percent)  \n",
      "0                                           0.444036                                 \n",
      "1                                           0.444250                                 \n",
      "2                                           0.445501                                 \n",
      "3                                           0.445958                                 \n",
      "4                                           0.445779                                 \n",
      "Index(['Entity', 'Code', 'Year',\n",
      "       'Prevalence - Schizophrenia - Sex: Both - Age: Age-standardized (Percent)',\n",
      "       'Prevalence - Bipolar disorder - Sex: Both - Age: Age-standardized (Percent)',\n",
      "       'Prevalence - Eating disorders - Sex: Both - Age: Age-standardized (Percent)',\n",
      "       'Prevalence - Anxiety disorders - Sex: Both - Age: Age-standardized (Percent)',\n",
      "       'Prevalence - Drug use disorders - Sex: Both - Age: Age-standardized (Percent)',\n",
      "       'Prevalence - Depressive disorders - Sex: Both - Age: Age-standardized (Percent)',\n",
      "       'Prevalence - Alcohol use disorders - Sex: Both - Age: Age-standardized (Percent)'],\n",
      "      dtype='object')\n"
     ]
    }
   ],
   "source": [
    "import pandas as pd\n",
    "\n",
    "\n",
    "df_mental_health = pd.read_csv('prevalence-by-mental-and-substance-use-disorder.csv')\n",
    "\n",
    "print(df_mental_health.head())\n",
    "\n",
    "# Examine the columns\n",
    "\n",
    "print(df_mental_health.columns)"
   ]
  },
  {
   "cell_type": "markdown",
   "id": "3cf3daef",
   "metadata": {},
   "source": [
    "As you can see the dataframe is relatively straighforward. It consists of records of various countries over the years along with the corresponding prevalence rates of an assortments of mental disorders."
   ]
  },
  {
   "cell_type": "markdown",
   "id": "935df865",
   "metadata": {},
   "source": [
    "## Focusing on Schizophrenia."
   ]
  },
  {
   "cell_type": "code",
   "execution_count": 3,
   "id": "a7555ac1",
   "metadata": {
    "ExecuteTime": {
     "end_time": "2023-08-05T02:45:03.196407Z",
     "start_time": "2023-08-05T02:45:03.188629Z"
    }
   },
   "outputs": [
    {
     "name": "stdout",
     "output_type": "stream",
     "text": [
      "        Entity Code  Year    Schizo\n",
      "0  Afghanistan  AFG  1990  0.228979\n",
      "1  Afghanistan  AFG  1991  0.228120\n",
      "2  Afghanistan  AFG  1992  0.227328\n",
      "3  Afghanistan  AFG  1993  0.226468\n",
      "4  Afghanistan  AFG  1994  0.225567\n",
      "['Afghanistan' 'African Region (WHO)' 'Albania' 'Algeria' 'American Samoa'\n",
      " 'Andorra' 'Angola' 'Antigua and Barbuda' 'Argentina' 'Armenia'\n",
      " 'Australia' 'Austria' 'Azerbaijan' 'Bahamas' 'Bahrain' 'Bangladesh'\n",
      " 'Barbados' 'Belarus' 'Belgium' 'Belize' 'Benin' 'Bermuda' 'Bhutan'\n",
      " 'Bolivia' 'Bosnia and Herzegovina' 'Botswana' 'Brazil' 'Brunei'\n",
      " 'Bulgaria' 'Burkina Faso' 'Burundi' 'Cambodia' 'Cameroon' 'Canada'\n",
      " 'Cape Verde' 'Central African Republic' 'Chad' 'Chile' 'China' 'Colombia'\n",
      " 'Comoros' 'Congo' 'Cook Islands' 'Costa Rica' \"Cote d'Ivoire\" 'Croatia'\n",
      " 'Cuba' 'Cyprus' 'Czechia' 'Democratic Republic of Congo' 'Denmark'\n",
      " 'Djibouti' 'Dominica' 'Dominican Republic' 'East Asia & Pacific (WB)'\n",
      " 'Eastern Mediterranean Region (WHO)' 'Ecuador' 'Egypt' 'El Salvador'\n",
      " 'England' 'Equatorial Guinea' 'Eritrea' 'Estonia' 'Eswatini' 'Ethiopia'\n",
      " 'Europe & Central Asia (WB)' 'European Region (WHO)' 'Fiji' 'Finland'\n",
      " 'France' 'G20' 'Gabon' 'Gambia' 'Georgia' 'Germany' 'Ghana' 'Greece'\n",
      " 'Greenland' 'Grenada' 'Guam' 'Guatemala' 'Guinea' 'Guinea-Bissau'\n",
      " 'Guyana' 'Haiti' 'Honduras' 'Hungary' 'Iceland' 'India' 'Indonesia'\n",
      " 'Iran' 'Iraq' 'Ireland' 'Israel' 'Italy' 'Jamaica' 'Japan' 'Jordan'\n",
      " 'Kazakhstan' 'Kenya' 'Kiribati' 'Kuwait' 'Kyrgyzstan' 'Laos'\n",
      " 'Latin America & Caribbean (WB)' 'Latvia' 'Lebanon' 'Lesotho' 'Liberia'\n",
      " 'Libya' 'Lithuania' 'Luxembourg' 'Madagascar' 'Malawi' 'Malaysia'\n",
      " 'Maldives' 'Mali' 'Malta' 'Marshall Islands' 'Mauritania' 'Mauritius'\n",
      " 'Mexico' 'Micronesia (country)' 'Middle East & North Africa (WB)'\n",
      " 'Moldova' 'Monaco' 'Mongolia' 'Montenegro' 'Morocco' 'Mozambique'\n",
      " 'Myanmar' 'Namibia' 'Nauru' 'Nepal' 'Netherlands' 'New Zealand'\n",
      " 'Nicaragua' 'Niger' 'Nigeria' 'Niue' 'North America (WB)' 'North Korea'\n",
      " 'North Macedonia' 'Northern Ireland' 'Northern Mariana Islands' 'Norway'\n",
      " 'OECD Countries' 'Oman' 'Pakistan' 'Palau' 'Palestine' 'Panama'\n",
      " 'Papua New Guinea' 'Paraguay' 'Peru' 'Philippines' 'Poland' 'Portugal'\n",
      " 'Puerto Rico' 'Qatar' 'Region of the Americas (WHO)' 'Romania' 'Russia'\n",
      " 'Rwanda' 'Saint Kitts and Nevis' 'Saint Lucia'\n",
      " 'Saint Vincent and the Grenadines' 'Samoa' 'San Marino'\n",
      " 'Sao Tome and Principe' 'Saudi Arabia' 'Scotland' 'Senegal' 'Serbia'\n",
      " 'Seychelles' 'Sierra Leone' 'Singapore' 'Slovakia' 'Slovenia'\n",
      " 'Solomon Islands' 'Somalia' 'South Africa' 'South Asia (WB)'\n",
      " 'South Korea' 'South Sudan' 'South-East Asia Region (WHO)' 'Spain'\n",
      " 'Sri Lanka' 'Sub-Saharan Africa (WB)' 'Sudan' 'Suriname' 'Sweden'\n",
      " 'Switzerland' 'Syria' 'Taiwan' 'Tajikistan' 'Tanzania' 'Thailand' 'Timor'\n",
      " 'Togo' 'Tokelau' 'Tonga' 'Trinidad and Tobago' 'Tunisia' 'Turkey'\n",
      " 'Turkmenistan' 'Tuvalu' 'Uganda' 'Ukraine' 'United Arab Emirates'\n",
      " 'United Kingdom' 'United States' 'United States Virgin Islands' 'Uruguay'\n",
      " 'Uzbekistan' 'Vanuatu' 'Venezuela' 'Vietnam' 'Wales'\n",
      " 'Western Pacific Region (WHO)' 'World' 'World Bank High Income'\n",
      " 'World Bank Low Income' 'World Bank Lower Middle Income'\n",
      " 'World Bank Upper Middle Income' 'Yemen' 'Zambia' 'Zimbabwe']\n",
      "           Entity Code  Year    Schizo\n",
      "0     Afghanistan  AFG  1990  0.228979\n",
      "1     Afghanistan  AFG  1991  0.228120\n",
      "2     Afghanistan  AFG  1992  0.227328\n",
      "3     Afghanistan  AFG  1993  0.226468\n",
      "4     Afghanistan  AFG  1994  0.225567\n",
      "...           ...  ...   ...       ...\n",
      "6835     Zimbabwe  ZWE  2015  0.209359\n",
      "6836     Zimbabwe  ZWE  2016  0.209979\n",
      "6837     Zimbabwe  ZWE  2017  0.210631\n",
      "6838     Zimbabwe  ZWE  2018  0.211237\n",
      "6839     Zimbabwe  ZWE  2019  0.211969\n",
      "\n",
      "[6840 rows x 4 columns]\n"
     ]
    }
   ],
   "source": [
    "# Columns \n",
    "\n",
    "#print(df_mental_health.columns)\n",
    "df_new = df_mental_health[['Entity', 'Code', 'Year', 'Prevalence - Schizophrenia - Sex: Both - Age: Age-standardized (Percent)']]\n",
    "\n",
    "df_new = df_new.rename(columns={'Prevalence - Schizophrenia - Sex: Both - Age: Age-standardized (Percent)': 'Schizo'})\n",
    "print(df_new.head())\n",
    "\n",
    "\n",
    "#let's see what unique contries are present\n",
    "\n",
    "unique_entities = df_new['Entity'].unique()\n",
    "\n",
    "print(unique_entities)\n",
    "\n",
    "\n",
    "\n",
    "#df_us = df_new[df_new['Entity'] == 'United States']\n",
    "\n",
    "print(df_new)\n",
    "\n"
   ]
  },
  {
   "cell_type": "markdown",
   "id": "d5b76522",
   "metadata": {},
   "source": [
    "## Focusing on Schizophrenia, Alcoholism and Depression"
   ]
  },
  {
   "cell_type": "markdown",
   "id": "2aa3286b",
   "metadata": {},
   "source": [
    "Now we look to get start exploring the data set with respect to: depression, schizophrenia, and alcohol abuse. Notice that we use \"\\\" to allow for continuing long lines (Python) and that we are creating a new dataframe using the column names of interest. The syntax for doing so is roughly speaking: `df[[<comma separated list of strings for column names>]]`"
   ]
  },
  {
   "cell_type": "code",
   "execution_count": 4,
   "id": "db2469e1",
   "metadata": {
    "ExecuteTime": {
     "end_time": "2023-08-05T02:45:03.201749Z",
     "start_time": "2023-08-05T02:45:03.197410Z"
    }
   },
   "outputs": [
    {
     "name": "stdout",
     "output_type": "stream",
     "text": [
      "        Entity Code  Year  \\\n",
      "0  Afghanistan  AFG  1990   \n",
      "1  Afghanistan  AFG  1991   \n",
      "2  Afghanistan  AFG  1992   \n",
      "3  Afghanistan  AFG  1993   \n",
      "4  Afghanistan  AFG  1994   \n",
      "\n",
      "   Prevalence - Schizophrenia - Sex: Both - Age: Age-standardized (Percent)  \\\n",
      "0                                           0.228979                          \n",
      "1                                           0.228120                          \n",
      "2                                           0.227328                          \n",
      "3                                           0.226468                          \n",
      "4                                           0.225567                          \n",
      "\n",
      "   Prevalence - Depressive disorders - Sex: Both - Age: Age-standardized (Percent)  \\\n",
      "0                                           5.125291                                 \n",
      "1                                           5.116306                                 \n",
      "2                                           5.106558                                 \n",
      "3                                           5.100328                                 \n",
      "4                                           5.099424                                 \n",
      "\n",
      "   Prevalence - Alcohol use disorders - Sex: Both - Age: Age-standardized (Percent)  \n",
      "0                                           0.444036                                 \n",
      "1                                           0.444250                                 \n",
      "2                                           0.445501                                 \n",
      "3                                           0.445958                                 \n",
      "4                                           0.445779                                 \n"
     ]
    }
   ],
   "source": [
    "df_sad = df_mental_health[['Entity', 'Code', 'Year',\\\n",
    "                           'Prevalence - Schizophrenia - Sex: Both - Age: Age-standardized (Percent)',\\\n",
    "                           'Prevalence - Depressive disorders - Sex: Both - Age: Age-standardized (Percent)','Prevalence - Alcohol use disorders - Sex: Both - Age: Age-standardized (Percent)']]\n",
    "\n",
    "print(df_sad.head())\n",
    "\n",
    "#Prevalence - Depressive disorders - Sex: Both - Age: Age-standardized (Percent)',\n",
    " #      'Prevalence - Alcohol use disorders - Sex: Both - Age: Age-standardized (Percent)'"
   ]
  },
  {
   "cell_type": "markdown",
   "id": "6293a7ab",
   "metadata": {},
   "source": [
    "### Aside on long column names: \n",
    "\n",
    "Notice that the column names are a little unweildy. Moreover, there are natural choices for shorter column names. We can use pandas methods to simplify/shorten the names while retaining the ability to print the dataframe and still know what the columns correspond to. "
   ]
  },
  {
   "cell_type": "code",
   "execution_count": 5,
   "id": "9ca6aea6",
   "metadata": {
    "ExecuteTime": {
     "end_time": "2023-08-05T02:45:03.207195Z",
     "start_time": "2023-08-05T02:45:03.202831Z"
    }
   },
   "outputs": [],
   "source": [
    "df_sad = df_sad.rename(columns={'Prevalence - Schizophrenia - Sex: Both - Age: Age-standardized (Percent)': 'Schizo'})\n",
    "df_sad = df_sad.rename(columns={'Prevalence - Depressive disorders - Sex: Both - Age: Age-standardized (Percent)': 'Depp'})\n",
    "df_sad = df_sad.rename(columns={'Prevalence - Alcohol use disorders - Sex: Both - Age: Age-standardized (Percent)': 'Alch'})\n"
   ]
  },
  {
   "cell_type": "markdown",
   "id": "ce0ec3d0",
   "metadata": {},
   "source": [
    "## Subframe of United States Entries"
   ]
  },
  {
   "cell_type": "code",
   "execution_count": 6,
   "id": "1e3a05b9",
   "metadata": {
    "ExecuteTime": {
     "end_time": "2023-08-05T02:45:04.614594Z",
     "start_time": "2023-08-05T02:45:03.208458Z"
    }
   },
   "outputs": [
    {
     "name": "stdout",
     "output_type": "stream",
     "text": [
      "<pandas.core.groupby.generic.DataFrameGroupBy object at 0x103664250>\n",
      "             Entity Code  Year    Schizo      Depp      Alch\n",
      "6330  United States  USA  1990  0.467115  4.068695  3.111360\n",
      "6331  United States  USA  1991  0.472488  4.196610  3.022482\n",
      "6332  United States  USA  1992  0.477502  4.323224  2.937071\n",
      "6333  United States  USA  1993  0.481847  4.443956  2.858443\n",
      "6334  United States  USA  1994  0.485216  4.554388  2.790028\n"
     ]
    },
    {
     "data": {
      "text/plain": [
       "array([[<Axes: xlabel='Year', ylabel='Year'>,\n",
       "        <Axes: xlabel='Schizo', ylabel='Year'>,\n",
       "        <Axes: xlabel='Depp', ylabel='Year'>,\n",
       "        <Axes: xlabel='Alch', ylabel='Year'>],\n",
       "       [<Axes: xlabel='Year', ylabel='Schizo'>,\n",
       "        <Axes: xlabel='Schizo', ylabel='Schizo'>,\n",
       "        <Axes: xlabel='Depp', ylabel='Schizo'>,\n",
       "        <Axes: xlabel='Alch', ylabel='Schizo'>],\n",
       "       [<Axes: xlabel='Year', ylabel='Depp'>,\n",
       "        <Axes: xlabel='Schizo', ylabel='Depp'>,\n",
       "        <Axes: xlabel='Depp', ylabel='Depp'>,\n",
       "        <Axes: xlabel='Alch', ylabel='Depp'>],\n",
       "       [<Axes: xlabel='Year', ylabel='Alch'>,\n",
       "        <Axes: xlabel='Schizo', ylabel='Alch'>,\n",
       "        <Axes: xlabel='Depp', ylabel='Alch'>,\n",
       "        <Axes: xlabel='Alch', ylabel='Alch'>]], dtype=object)"
      ]
     },
     "execution_count": 6,
     "metadata": {},
     "output_type": "execute_result"
    },
    {
     "data": {
      "image/png": "[encoded data removed]",
      "text/plain": [
       "<Figure size 600x600 with 16 Axes>"
      ]
     },
     "metadata": {},
     "output_type": "display_data"
    }
   ],
   "source": [
    "grouped = df_sad.groupby('Entity')\n",
    "print(grouped)\n",
    "\n",
    "#df_us_sad=grouped\n",
    "\n",
    "#print(df_us_sad)\n",
    "#df_us_sad = df_sad[['Code', 'Year', 'Schizo']]\n",
    "#df_united_inSad = df_sad[df_sad['Entity' == 'United States']]\n",
    "df_united_inSad = df_sad[df_sad['Entity'] == 'United States']\n",
    "\n",
    "\n",
    "#print(df_us_new)\n",
    "\n",
    "#df_us_sad.to_pickle('df_us_new_schizo.pkl')\n",
    "\n",
    "print(df_united_inSad.head())\n",
    "\n",
    "import pandas as pd\n",
    "from pandas.plotting import scatter_matrix\n",
    "import numpy as np\n",
    "\n",
    "# Assuming df is your DataFrame and it already exists\n",
    "# df = pd.DataFrame(np.random.randn(1000, 4), columns=['a', 'b', 'c', 'd'])\n",
    "\n",
    "scatter_matrix(df_united_inSad, alpha=0.2, figsize=(6, 6), diagonal='kde')\n"
   ]
  },
  {
   "cell_type": "code",
   "execution_count": 7,
   "id": "80f73bb4",
   "metadata": {
    "ExecuteTime": {
     "end_time": "2023-08-05T02:45:06.774031Z",
     "start_time": "2023-08-05T02:45:04.616415Z"
    }
   },
   "outputs": [
    {
     "name": "stdout",
     "output_type": "stream",
     "text": [
      "Looking in indexes: https://pypi.org/simple, https://packagecloud.io/pimutils/khal/pypi/simple\n",
      "Requirement already satisfied: statsmodels in /opt/homebrew/lib/python3.11/site-packages (0.14.0)\n",
      "Requirement already satisfied: numpy>=1.18 in /opt/homebrew/lib/python3.11/site-packages (from statsmodels) (1.25.0)\n",
      "Requirement already satisfied: scipy!=1.9.2,>=1.4 in /opt/homebrew/lib/python3.11/site-packages (from statsmodels) (1.11.1)\n",
      "Requirement already satisfied: pandas>=1.0 in /opt/homebrew/lib/python3.11/site-packages (from statsmodels) (2.0.3)\n",
      "Requirement already satisfied: patsy>=0.5.2 in /opt/homebrew/lib/python3.11/site-packages (from statsmodels) (0.5.3)\n",
      "Requirement already satisfied: packaging>=21.3 in /opt/homebrew/lib/python3.11/site-packages (from statsmodels) (23.1)\n",
      "Requirement already satisfied: python-dateutil>=2.8.2 in /opt/homebrew/lib/python3.11/site-packages (from pandas>=1.0->statsmodels) (2.8.2)\n",
      "Requirement already satisfied: pytz>=2020.1 in /opt/homebrew/lib/python3.11/site-packages (from pandas>=1.0->statsmodels) (2023.3)\n",
      "Requirement already satisfied: tzdata>=2022.1 in /opt/homebrew/lib/python3.11/site-packages (from pandas>=1.0->statsmodels) (2023.3)\n",
      "Requirement already satisfied: six in /opt/homebrew/lib/python3.11/site-packages (from patsy>=0.5.2->statsmodels) (1.16.0)\n",
      "\n",
      "\u001b[1m[\u001b[0m\u001b[34;49mnotice\u001b[0m\u001b[1;39;49m]\u001b[0m\u001b[39;49m A new release of pip is available: \u001b[0m\u001b[31;49m23.0.1\u001b[0m\u001b[39;49m -> \u001b[0m\u001b[32;49m23.2.1\u001b[0m\n",
      "\u001b[1m[\u001b[0m\u001b[34;49mnotice\u001b[0m\u001b[1;39;49m]\u001b[0m\u001b[39;49m To update, run: \u001b[0m\u001b[32;49mpython3.11 -m pip install --upgrade pip\u001b[0m\n",
      "Note: you may need to restart the kernel to use updated packages.\n"
     ]
    }
   ],
   "source": [
    "pip install statsmodels"
   ]
  },
  {
   "cell_type": "markdown",
   "id": "ef74ef5a",
   "metadata": {},
   "source": [
    "   Now let's pause and consider what is possible with what we have now.  Our `df"
   ]
  },
  {
   "cell_type": "markdown",
   "id": "7e4534fc",
   "metadata": {},
   "source": [
    "   Now let's pause and consider what is possible with what we have now.  Our `df_united...` data frame can pretty clearly be used to examine lineawr relationships amongst Schizophrenia, Depression and Alcoholism (in the United States). "
   ]
  },
  {
   "cell_type": "code",
   "execution_count": 8,
   "id": "4a03be4d",
   "metadata": {
    "ExecuteTime": {
     "end_time": "2023-08-05T02:45:07.313785Z",
     "start_time": "2023-08-05T02:45:06.775854Z"
    }
   },
   "outputs": [
    {
     "name": "stdout",
     "output_type": "stream",
     "text": [
      "             Entity Code  Year    Schizo      Depp      Alch\n",
      "6330  United States  USA  1990  0.467115  4.068695  3.111360\n",
      "6331  United States  USA  1991  0.472488  4.196610  3.022482\n",
      "6332  United States  USA  1992  0.477502  4.323224  2.937071\n",
      "6333  United States  USA  1993  0.481847  4.443956  2.858443\n",
      "6334  United States  USA  1994  0.485216  4.554388  2.790028\n",
      "              Year     Schizo       Depp       Alch\n",
      "count    30.000000  30.000000  30.000000  30.000000\n",
      "mean   2004.500000   0.489256   4.755258   2.613989\n",
      "std       8.803408   0.012945   0.225955   0.166118\n",
      "min    1990.000000   0.467115   4.068695   2.481960\n",
      "25%    1997.250000   0.480224   4.732868   2.514782\n",
      "50%    2004.500000   0.490101   4.833537   2.555633\n",
      "75%    2011.750000   0.501105   4.910971   2.603112\n",
      "max    2019.000000   0.506018   4.933798   3.111360\n"
     ]
    },
    {
     "data": {
      "image/png": "[encoded data removed]",
      "text/plain": [
       "<Figure size 1000x600 with 1 Axes>"
      ]
     },
     "metadata": {},
     "output_type": "display_data"
    },
    {
     "name": "stdout",
     "output_type": "stream",
     "text": [
      "                            OLS Regression Results                            \n",
      "==============================================================================\n",
      "Dep. Variable:                 Schizo   R-squared:                       0.000\n",
      "Model:                            OLS   Adj. R-squared:                 -0.036\n",
      "Method:                 Least Squares   F-statistic:                 0.0001566\n",
      "Date:                Fri, 04 Aug 2023   Prob (F-statistic):              0.990\n",
      "Time:                        19:45:07   Log-Likelihood:                 88.353\n",
      "No. Observations:                  30   AIC:                            -172.7\n",
      "Df Residuals:                      28   BIC:                            -169.9\n",
      "Df Model:                           1                                         \n",
      "Covariance Type:            nonrobust                                         \n",
      "==============================================================================\n",
      "                 coef    std err          t      P>|t|      [0.025      0.975]\n",
      "------------------------------------------------------------------------------\n",
      "const          0.4823      0.557      0.866      0.394      -0.659       1.623\n",
      "Year        3.477e-06      0.000      0.013      0.990      -0.001       0.001\n",
      "==============================================================================\n",
      "Omnibus:                        4.164   Durbin-Watson:                   0.069\n",
      "Prob(Omnibus):                  0.125   Jarque-Bera (JB):                1.934\n",
      "Skew:                          -0.296   Prob(JB):                        0.380\n",
      "Kurtosis:                       1.907   Cond. No.                     4.64e+05\n",
      "==============================================================================\n",
      "\n",
      "Notes:\n",
      "[1] Standard Errors assume that the covariance matrix of the errors is correctly specified.\n",
      "[2] The condition number is large, 4.64e+05. This might indicate that there are\n",
      "strong multicollinearity or other numerical problems.\n",
      "                            OLS Regression Results                            \n",
      "==============================================================================\n",
      "Dep. Variable:                   Depp   R-squared:                       0.293\n",
      "Model:                            OLS   Adj. R-squared:                  0.268\n",
      "Method:                 Least Squares   F-statistic:                     11.61\n",
      "Date:                Fri, 04 Aug 2023   Prob (F-statistic):            0.00200\n",
      "Time:                        19:45:07   Log-Likelihood:                 7.7676\n",
      "No. Observations:                  30   AIC:                            -11.54\n",
      "Df Residuals:                      28   BIC:                            -8.733\n",
      "Df Model:                           1                                         \n",
      "Covariance Type:            nonrobust                                         \n",
      "==============================================================================\n",
      "                 coef    std err          t      P>|t|      [0.025      0.975]\n",
      "------------------------------------------------------------------------------\n",
      "const        -23.1025      8.174     -2.826      0.009     -39.847      -6.358\n",
      "Year           0.0139      0.004      3.408      0.002       0.006       0.022\n",
      "==============================================================================\n",
      "Omnibus:                        3.922   Durbin-Watson:                   0.074\n",
      "Prob(Omnibus):                  0.141   Jarque-Bera (JB):                3.446\n",
      "Skew:                          -0.815   Prob(JB):                        0.179\n",
      "Kurtosis:                       2.685   Cond. No.                     4.64e+05\n",
      "==============================================================================\n",
      "\n",
      "Notes:\n",
      "[1] Standard Errors assume that the covariance matrix of the errors is correctly specified.\n",
      "[2] The condition number is large, 4.64e+05. This might indicate that there are\n",
      "strong multicollinearity or other numerical problems.\n",
      "                            OLS Regression Results                            \n",
      "==============================================================================\n",
      "Dep. Variable:                   Alch   R-squared:                       0.556\n",
      "Model:                            OLS   Adj. R-squared:                  0.540\n",
      "Method:                 Least Squares   F-statistic:                     35.04\n",
      "Date:                Fri, 04 Aug 2023   Prob (F-statistic):           2.27e-06\n",
      "Time:                        19:45:07   Log-Likelihood:                 23.966\n",
      "No. Observations:                  30   AIC:                            -43.93\n",
      "Df Residuals:                      28   BIC:                            -41.13\n",
      "Df Model:                           1                                         \n",
      "Covariance Type:            nonrobust                                         \n",
      "==============================================================================\n",
      "                 coef    std err          t      P>|t|      [0.025      0.975]\n",
      "------------------------------------------------------------------------------\n",
      "const         30.8142      4.764      6.468      0.000      21.056      40.573\n",
      "Year          -0.0141      0.002     -5.920      0.000      -0.019      -0.009\n",
      "==============================================================================\n",
      "Omnibus:                        2.070   Durbin-Watson:                   0.091\n",
      "Prob(Omnibus):                  0.355   Jarque-Bera (JB):                1.012\n",
      "Skew:                           0.401   Prob(JB):                        0.603\n",
      "Kurtosis:                       3.407   Cond. No.                     4.64e+05\n",
      "==============================================================================\n",
      "\n",
      "Notes:\n",
      "[1] Standard Errors assume that the covariance matrix of the errors is correctly specified.\n",
      "[2] The condition number is large, 4.64e+05. This might indicate that there are\n",
      "strong multicollinearity or other numerical problems.\n"
     ]
    }
   ],
   "source": [
    "import pandas as pd\n",
    "import matplotlib.pyplot as plt\n",
    "import seaborn as sns\n",
    "import statsmodels.api as sm\n",
    "\n",
    "print(df_united_inSad.head())\n",
    "print(df_united_inSad.describe())\n",
    "\n",
    "plt.figure(figsize=(10, 6))\n",
    "plt.scatter(df_united_inSad['Year'], df_united_inSad['Schizo'], label='Schizo')\n",
    "plt.scatter(df_united_inSad['Year'], df_united_inSad['Depp'], label='Depp')\n",
    "plt.scatter(df_united_inSad['Year'], df_united_inSad['Alch'], label='Alch')\n",
    "plt.xlabel('Year')\n",
    "plt.ylabel('Value')\n",
    "plt.legend()\n",
    "plt.show()\n",
    "#Now, let's run a linear regression for each of 'Schizo', 'Depp', and 'Alch' against 'Year'. We'll use the OLS function from statsmodels to do this:\n",
    "\n",
    "\n",
    "# Add a constant to the DataFrame for the linear regression\n",
    "df_united_inSad = sm.add_constant(df_united_inSad)\n",
    "\n",
    "# Run a linear regression for 'Schizo' against 'Year'\n",
    "model_schizo = sm.OLS(df_united_inSad['Schizo'], df_united_inSad[['const', 'Year']])\n",
    "results_schizo = model_schizo.fit()\n",
    "print(results_schizo.summary())\n",
    "\n",
    "# Run a linear regression for 'Depp' against 'Year'\n",
    "model_depp = sm.OLS(df_united_inSad['Depp'], df_united_inSad[['const', 'Year']])\n",
    "results_depp = model_depp.fit()\n",
    "print(results_depp.summary())\n",
    "\n",
    "# Run a linear regression for 'Alch' against 'Year'\n",
    "model_alch = sm.OLS(df_united_inSad['Alch'], df_united_inSad[['const', 'Year']])\n",
    "results_alch = model_alch.fit()\n",
    "print(results_alch.summary())\n"
   ]
  },
  {
   "cell_type": "markdown",
   "id": "bccc9b79",
   "metadata": {},
   "source": [
    "## Pickle and DataFrames\n",
    "\n",
    "One nice thing about csv files is that they can be readily shared. How about Python objects? Well we have two options for saving our dataframes. We can methods that ship with Pandas or we can use the pickle library. The disadvantage of the Pickle library is that it saves the dataframes a list. So to avoid extra work we use the built in method. "
   ]
  },
  {
   "cell_type": "code",
   "execution_count": null,
   "id": "8a2754ae",
   "metadata": {},
   "outputs": [],
   "source": []
  },
  {
   "cell_type": "code",
   "execution_count": null,
   "id": "f5b2a12c",
   "metadata": {},
   "outputs": [],
   "source": []
  },
  {
   "cell_type": "markdown",
   "id": "18cfe029",
   "metadata": {},
   "source": [
    "# Pickling the United States Dataframe\n"
   ]
  },
  {
   "cell_type": "code",
   "execution_count": 9,
   "id": "4987b02f",
   "metadata": {
    "ExecuteTime": {
     "end_time": "2023-08-05T02:45:07.339833Z",
     "start_time": "2023-08-05T02:45:07.330187Z"
    }
   },
   "outputs": [],
   "source": [
    "#import pickle\n",
    "\n",
    "# Assuming dfs is your list of DataFrames\n",
    "#with open('dataframes_sui.pkl', 'wb') as f:\n",
    "   #pickle.dump(df_us_new, f)"
   ]
  },
  {
   "cell_type": "code",
   "execution_count": 10,
   "id": "10c69711",
   "metadata": {
    "ExecuteTime": {
     "end_time": "2023-08-05T02:45:07.354508Z",
     "start_time": "2023-08-05T02:45:07.343596Z"
    }
   },
   "outputs": [],
   "source": [
    "#df_us_new.to_pickle(\"df_new_ca_math8.pkl\")\n"
   ]
  },
  {
   "cell_type": "code",
   "execution_count": 11,
   "id": "c2564aef",
   "metadata": {
    "ExecuteTime": {
     "end_time": "2023-08-05T02:45:07.481509Z",
     "start_time": "2023-08-05T02:45:07.356460Z"
    }
   },
   "outputs": [
    {
     "name": "stdout",
     "output_type": "stream",
     "text": [
      "Bringing DataFrames Together.ipynb\r\n",
      "Crimes_-_2001_to_Present.csv\r\n",
      "Data_Analysis_Notebook_HAHA_pleasebehere.ipynb\r\n",
      "Education Data United States Exploration.ipynb\r\n",
      "Gallup_rel.csv\r\n",
      "JavaScript Data Analysis Similar Project 2023.ipynb\r\n",
      "Mental Health Data Exploration .ipynb\r\n",
      "Religious Data Exploration Process.ipynb\r\n",
      "Stocks Data .ipynb\r\n",
      "Suicides In US .ipynb\r\n",
      "Tech Stocks, MH and Suicide Rates.ipynb\r\n",
      "US Religion Census Top 0 Religious Groups (2020) (Downloaded from thearda.com on Sun Jul 30, 2023).csv\r\n",
      "US Schizophrenia, Stock Prices and .ipynb\r\n",
      "df_stocks.pkl\r\n",
      "mentalData.jpeg\r\n",
      "merged_df_mentalhealthde2023-08-04 18:53:36.pickle\r\n",
      "prevalence-by-mental-and-substance-use-disorder.csv\r\n",
      "religious.csv\r\n",
      "states_edu.csv\r\n",
      "stock_data.csv\r\n",
      "us_sui_rates.csv\r\n"
     ]
    }
   ],
   "source": [
    "!ls\n"
   ]
  },
  {
   "cell_type": "code",
   "execution_count": 12,
   "id": "06a4ca0a",
   "metadata": {
    "ExecuteTime": {
     "end_time": "2023-08-05T02:45:07.486450Z",
     "start_time": "2023-08-05T02:45:07.483842Z"
    }
   },
   "outputs": [],
   "source": [
    "#import pandas as pd\n",
    "\n",
    "#pickled_dfs = ['dataframes_adj_religion.pkl', 'dataframes_edu.pkl', 'dataframes_new_ca_math.pkl', 'dataframes_stocks.pkl', 'dataframes_sui.pkl']\n",
    "#dataframes = []\n",
    "\n",
    "# Loop through the list of pickle files\n",
    "#for file in pickled_dfs:\n",
    "    # Load the DataFrame from the pickle file and append it to the list\n",
    " #   df = pd.read_pickle(file)\n",
    "  #  dataframes.append(df)\n",
    "\n",
    "    \n",
    "#print(dataframes)"
   ]
  },
  {
   "cell_type": "code",
   "execution_count": 13,
   "id": "feaf8983",
   "metadata": {
    "ExecuteTime": {
     "end_time": "2023-08-05T02:45:07.605956Z",
     "start_time": "2023-08-05T02:45:07.487697Z"
    }
   },
   "outputs": [
    {
     "name": "stdout",
     "output_type": "stream",
     "text": [
      "Bringing DataFrames Together.ipynb\r\n",
      "Data_Analysis_Notebook_HAHA_pleasebehere.ipynb\r\n",
      "Education Data United States Exploration.ipynb\r\n",
      "JavaScript Data Analysis Similar Project 2023.ipynb\r\n",
      "Mental Health Data Exploration .ipynb\r\n",
      "Religious Data Exploration Process.ipynb\r\n",
      "Stocks Data .ipynb\r\n",
      "Suicides In US .ipynb\r\n",
      "Tech Stocks, MH and Suicide Rates.ipynb\r\n",
      "US Schizophrenia, Stock Prices and .ipynb\r\n"
     ]
    }
   ],
   "source": [
    "!ls|grep ipyn\n"
   ]
  },
  {
   "cell_type": "code",
   "execution_count": 14,
   "id": "2aa52472",
   "metadata": {
    "ExecuteTime": {
     "end_time": "2023-08-05T02:45:07.623990Z",
     "start_time": "2023-08-05T02:45:07.609198Z"
    }
   },
   "outputs": [
    {
     "name": "stdout",
     "output_type": "stream",
     "text": [
      "[   Ticker  Year  Average Close\n",
      "0    AAPL  2010       9.280088\n",
      "1    AAPL  2011      13.000154\n",
      "2    AAPL  2012      20.573204\n",
      "3    AAPL  2013      16.879817\n",
      "4    AAPL  2014      23.066164\n",
      "5    AAPL  2015      30.010000\n",
      "6    AAPL  2016      26.151002\n",
      "7    AAPL  2017      37.637769\n",
      "8    AAPL  2018      47.263357\n",
      "9    AAPL  2019      52.063988\n",
      "10   AAPL  2020      95.347075\n",
      "11   AAPL  2021     140.989365\n",
      "12   AAPL  2022     154.835060\n",
      "13   AAPL  2023     165.059231\n",
      "14   MSFT  2010      27.058571\n",
      "15   MSFT  2011      26.052341\n",
      "16   MSFT  2012      29.820960\n",
      "17   MSFT  2013      32.491905\n",
      "18   MSFT  2014      42.453492\n",
      "19   MSFT  2015      46.714286\n",
      "20   MSFT  2016      55.259325\n",
      "21   MSFT  2017      71.984024\n",
      "22   MSFT  2018     101.033984\n",
      "23   MSFT  2019     130.382024\n",
      "24   MSFT  2020     193.026126\n",
      "25   MSFT  2021     275.940754\n",
      "26   MSFT  2022     268.917091\n",
      "27   MSFT  2023     291.917272\n",
      "28   NVDA  2010       3.390794\n",
      "29   NVDA  2011       4.221885\n",
      "30   NVDA  2012       3.376970\n",
      "31   NVDA  2013       3.547282\n",
      "32   NVDA  2014       4.636766\n",
      "33   NVDA  2015       5.929563\n",
      "34   NVDA  2016      13.440298\n",
      "35   NVDA  2017      37.445926\n",
      "36   NVDA  2018      58.096036\n",
      "37   NVDA  2019      43.646924\n",
      "38   NVDA  2020      98.907085\n",
      "39   NVDA  2021     195.219931\n",
      "40   NVDA  2022     185.689562\n",
      "41   NVDA  2023     297.112867]\n",
      "[   Ticker  Year  Average Close\n",
      "0    AAPL  2010       9.280088\n",
      "1    AAPL  2011      13.000154\n",
      "2    AAPL  2012      20.573204\n",
      "3    AAPL  2013      16.879817\n",
      "4    AAPL  2014      23.066164\n",
      "5    AAPL  2015      30.010000\n",
      "6    AAPL  2016      26.151002\n",
      "7    AAPL  2017      37.637769\n",
      "8    AAPL  2018      47.263357\n",
      "9    AAPL  2019      52.063988\n",
      "10   AAPL  2020      95.347075\n",
      "11   AAPL  2021     140.989365\n",
      "12   AAPL  2022     154.835060\n",
      "13   AAPL  2023     165.059231\n",
      "14   MSFT  2010      27.058571\n",
      "15   MSFT  2011      26.052341\n",
      "16   MSFT  2012      29.820960\n",
      "17   MSFT  2013      32.491905\n",
      "18   MSFT  2014      42.453492\n",
      "19   MSFT  2015      46.714286\n",
      "20   MSFT  2016      55.259325\n",
      "21   MSFT  2017      71.984024\n",
      "22   MSFT  2018     101.033984\n",
      "23   MSFT  2019     130.382024\n",
      "24   MSFT  2020     193.026126\n",
      "25   MSFT  2021     275.940754\n",
      "26   MSFT  2022     268.917091\n",
      "27   MSFT  2023     291.917272\n",
      "28   NVDA  2010       3.390794\n",
      "29   NVDA  2011       4.221885\n",
      "30   NVDA  2012       3.376970\n",
      "31   NVDA  2013       3.547282\n",
      "32   NVDA  2014       4.636766\n",
      "33   NVDA  2015       5.929563\n",
      "34   NVDA  2016      13.440298\n",
      "35   NVDA  2017      37.445926\n",
      "36   NVDA  2018      58.096036\n",
      "37   NVDA  2019      43.646924\n",
      "38   NVDA  2020      98.907085\n",
      "39   NVDA  2021     195.219931\n",
      "40   NVDA  2022     185.689562\n",
      "41   NVDA  2023     297.112867]\n"
     ]
    }
   ],
   "source": [
    "import glob\n",
    "import pandas as pd\n",
    "\n",
    "# Find all pickle files in the current directory\n",
    "pickled_dfs = glob.glob('./*.pkl')\n",
    "\n",
    "dataframes_from = []\n",
    "\n",
    "def import_pkls_from_dir():\n",
    "    # Loop through the list of pickle files\n",
    "    for file in pickled_dfs:\n",
    "        # Load the DataFrame from the pickle file and append it to the list\n",
    "        df = pd.read_pickle(file)\n",
    "        dataframes_from.append(df)\n",
    "        print(dataframes_from)\n",
    "\n",
    "import_pkls_from_dir()\n",
    "\n",
    "print(dataframes_from)\n"
   ]
  },
  {
   "cell_type": "markdown",
   "id": "9340c8a6",
   "metadata": {},
   "source": [
    "## Bringing In A New Dataset"
   ]
  },
  {
   "cell_type": "markdown",
   "id": "ececc4c7",
   "metadata": {},
   "source": [
    "Now I would like to get a feel for another important aspect of data analysis. What we are to do next in sequence:\n",
    "* perform \"data engineering\":merging datasets ;\n",
    "* perform \"data analysis\" by exploring our data after its prepared and possibly forming questions we might seek to answer or at least explore;\n",
    "* perform machine learning if the engineered data is amenable to corredsponding methods/techniques."
   ]
  },
  {
   "cell_type": "markdown",
   "id": "eed18b2d",
   "metadata": {},
   "source": [
    "<strong> The new Dataset </strong>\n",
    "\n",
    "It is natural to wonder what relationships over time might hold between suicide rates and these mental disorders we've been exploring. We bring in a new dataset and use it to see if we might uncover expected (or unexpected relationships)."
   ]
  },
  {
   "cell_type": "code",
   "execution_count": 15,
   "id": "e67d02d0",
   "metadata": {
    "ExecuteTime": {
     "end_time": "2023-08-05T02:45:07.650078Z",
     "start_time": "2023-08-05T02:45:07.625893Z"
    }
   },
   "outputs": [
    {
     "name": "stdout",
     "output_type": "stream",
     "text": [
      "                 INDICATOR                                               UNIT  \\\n",
      "0  Death rates for suicide  Deaths per 100,000 resident population, age-ad...   \n",
      "1  Death rates for suicide  Deaths per 100,000 resident population, age-ad...   \n",
      "2  Death rates for suicide  Deaths per 100,000 resident population, age-ad...   \n",
      "3  Death rates for suicide  Deaths per 100,000 resident population, age-ad...   \n",
      "4  Death rates for suicide  Deaths per 100,000 resident population, age-ad...   \n",
      "\n",
      "   UNIT_NUM STUB_NAME  STUB_NAME_NUM   STUB_LABEL  STUB_LABEL_NUM  YEAR  \\\n",
      "0         1     Total              0  All persons             0.0  1950   \n",
      "1         1     Total              0  All persons             0.0  1960   \n",
      "2         1     Total              0  All persons             0.0  1970   \n",
      "3         1     Total              0  All persons             0.0  1980   \n",
      "4         1     Total              0  All persons             0.0  1981   \n",
      "\n",
      "   YEAR_NUM       AGE  AGE_NUM  ESTIMATE FLAG  \n",
      "0         1  All ages      0.0      13.2  NaN  \n",
      "1         2  All ages      0.0      12.5  NaN  \n",
      "2         3  All ages      0.0      13.1  NaN  \n",
      "3         4  All ages      0.0      12.2  NaN  \n",
      "4         5  All ages      0.0      12.3  NaN  \n"
     ]
    }
   ],
   "source": [
    "import pandas as pd\n",
    "\n",
    "\n",
    "df_sui_rates = pd.read_csv('us_sui_rates.csv')\n",
    "print(df_sui_rates.head())\n",
    "\n",
    "df_simps = df_sui_rates[['INDICATOR', 'YEAR', 'AGE_NUM','ESTIMATE']]"
   ]
  },
  {
   "cell_type": "code",
   "execution_count": 16,
   "id": "7fd4ca40",
   "metadata": {
    "ExecuteTime": {
     "end_time": "2023-08-05T02:45:07.658196Z",
     "start_time": "2023-08-05T02:45:07.651406Z"
    }
   },
   "outputs": [
    {
     "name": "stdout",
     "output_type": "stream",
     "text": [
      "                 INDICATOR  YEAR  AGE_NUM  ESTIMATE\n",
      "0  Death rates for suicide  1950      0.0      13.2\n",
      "1  Death rates for suicide  1960      0.0      12.5\n",
      "2  Death rates for suicide  1970      0.0      13.1\n",
      "3  Death rates for suicide  1980      0.0      12.2\n",
      "4  Death rates for suicide  1981      0.0      12.3\n",
      "5  Death rates for suicide  1982      0.0      12.5\n",
      "6  Death rates for suicide  1983      0.0      12.4\n",
      "7  Death rates for suicide  1984      0.0      12.6\n",
      "8  Death rates for suicide  1985      0.0      12.5\n",
      "9  Death rates for suicide  1986      0.0      13.0\n",
      "1\n",
      "   YEAR  AGE_NUM  ESTIMATE\n",
      "0  1950      0.0      13.2\n",
      "1  1960      0.0      12.5\n",
      "2  1970      0.0      13.1\n",
      "3  1980      0.0      12.2\n",
      "4  1981      0.0      12.3\n"
     ]
    }
   ],
   "source": [
    "print(df_simps.head(10))\n",
    "\n",
    "num_unique_values = df_simps['INDICATOR'].nunique()\n",
    "print(num_unique_values)\n",
    "\n",
    "\n",
    "# Identify columns to drop\n",
    "cols_to_drop = [col for col in df_simps.columns if df_simps[col].nunique() == 1]\n",
    "\n",
    "# Drop these columns\n",
    "df_dsimps = df_simps.drop(cols_to_drop, axis=1)\n",
    "\n",
    "print(df_dsimps.head())"
   ]
  },
  {
   "cell_type": "markdown",
   "id": "423f08dd",
   "metadata": {},
   "source": [
    "Before we try and merge data sets let's consider what we have here. We see a columnt hat could be said to be shared at lesat in part between this new dataframe and our schizophrenia dataset/dataframe. We can therefore for one, plan on merging along shared years."
   ]
  },
  {
   "cell_type": "code",
   "execution_count": 28,
   "id": "63cd1311",
   "metadata": {
    "ExecuteTime": {
     "end_time": "2023-08-05T02:55:58.441879Z",
     "start_time": "2023-08-05T02:55:58.431695Z"
    }
   },
   "outputs": [],
   "source": [
    "df_sui_rates.columns\n",
    "\n",
    "df_sui_rates.to_pickle('sui0804.pkl')\n",
    "\n",
    "df_united_inSad.to_pickle('unisad.pkl')"
   ]
  },
  {
   "cell_type": "code",
   "execution_count": 29,
   "id": "85ad2c2c",
   "metadata": {
    "ExecuteTime": {
     "end_time": "2023-08-05T02:56:13.490636Z",
     "start_time": "2023-08-05T02:56:13.358912Z"
    }
   },
   "outputs": [
    {
     "name": "stdout",
     "output_type": "stream",
     "text": [
      "/Users/josechavez/WEB/jc_micro_projects/dataSnA/projectUno/notebooks\r\n"
     ]
    }
   ],
   "source": [
    "!pwd"
   ]
  },
  {
   "cell_type": "code",
   "execution_count": 24,
   "id": "0f54085b",
   "metadata": {
    "ExecuteTime": {
     "end_time": "2023-08-05T02:48:33.534993Z",
     "start_time": "2023-08-05T02:48:33.526743Z"
    }
   },
   "outputs": [
    {
     "name": "stdout",
     "output_type": "stream",
     "text": [
      "      const         Entity Code  Year    Schizo      Depp      Alch\n",
      "6330    1.0  United States  USA  1990  0.467115  4.068695  3.111360\n",
      "6331    1.0  United States  USA  1991  0.472488  4.196610  3.022482\n",
      "6332    1.0  United States  USA  1992  0.477502  4.323224  2.937071\n",
      "6333    1.0  United States  USA  1993  0.481847  4.443956  2.858443\n",
      "6334    1.0  United States  USA  1994  0.485216  4.554388  2.790028\n",
      "6335    1.0  United States  USA  1995  0.487275  4.649917  2.735402\n",
      "6336    1.0  United States  USA  1996  0.488420  4.728877  2.680183\n",
      "6337    1.0  United States  USA  1997  0.489322  4.792297  2.616027\n",
      "6338    1.0  United States  USA  1998  0.490074  4.841765  2.555207\n",
      "6339    1.0  United States  USA  1999  0.490764  4.877494  2.510123\n",
      "6340    1.0  United States  USA  2000  0.491473  4.899882  2.493354\n",
      "6341    1.0  United States  USA  2001  0.493311  4.910241  2.499927\n",
      "6342    1.0  United States  USA  2002  0.496664  4.912093  2.513923\n",
      "6343    1.0  United States  USA  2003  0.500509  4.909044  2.531130\n",
      "6344    1.0  United States  USA  2004  0.503822  4.906857  2.547328\n",
      "6345    1.0  United States  USA  2005  0.505568  4.911215  2.558304\n",
      "6346    1.0  United States  USA  2006  0.505987  4.919271  2.563083\n",
      "6347    1.0  United States  USA  2007  0.506018  4.926512  2.564368\n",
      "6348    1.0  United States  USA  2008  0.505684  4.931658  2.563379\n",
      "6349    1.0  United States  USA  2009  0.505018  4.933798  2.561372\n",
      "6350    1.0  United States  USA  2010  0.504039  4.932534  2.559565\n",
      "6351    1.0  United States  USA  2011  0.501304  4.914326  2.556059\n",
      "6352    1.0  United States  USA  2012  0.496241  4.873906  2.549004\n",
      "6353    1.0  United States  USA  2013  0.490129  4.825310  2.539524\n",
      "6354    1.0  United States  USA  2014  0.484211  4.780310  2.528673\n",
      "6355    1.0  United States  USA  2015  0.479682  4.751602  2.517357\n",
      "6356    1.0  United States  USA  2016  0.473109  4.740377  2.500322\n",
      "6357    1.0  United States  USA  2017  0.467995  4.735252  2.484274\n",
      "6358    1.0  United States  USA  2018  0.467770  4.732570  2.481960\n",
      "6359    1.0  United States  USA  2019  0.469107  4.733761  2.490441\n"
     ]
    }
   ],
   "source": [
    "print(df_united_inSad.head(50))"
   ]
  },
  {
   "cell_type": "code",
   "execution_count": 26,
   "id": "d4dafeee",
   "metadata": {
    "ExecuteTime": {
     "end_time": "2023-08-05T02:48:49.161404Z",
     "start_time": "2023-08-05T02:48:49.152772Z"
    }
   },
   "outputs": [
    {
     "name": "stdout",
     "output_type": "stream",
     "text": [
      "    YEAR  AGE_NUM  ESTIMATE\n",
      "0   1950      0.0      13.2\n",
      "1   1960      0.0      12.5\n",
      "2   1970      0.0      13.1\n",
      "3   1980      0.0      12.2\n",
      "4   1981      0.0      12.3\n",
      "5   1982      0.0      12.5\n",
      "6   1983      0.0      12.4\n",
      "7   1984      0.0      12.6\n",
      "8   1985      0.0      12.5\n",
      "9   1986      0.0      13.0\n",
      "10  1987      0.0      12.8\n",
      "11  1988      0.0      12.5\n",
      "12  1989      0.0      12.3\n",
      "13  1990      0.0      12.5\n",
      "14  1991      0.0      12.3\n",
      "15  1992      0.0      12.0\n",
      "16  1993      0.0      12.1\n",
      "17  1994      0.0      11.9\n",
      "18  1995      0.0      11.8\n",
      "19  1996      0.0      11.5\n",
      "20  1997      0.0      11.2\n",
      "21  1998      0.0      11.1\n",
      "22  1999      0.0      10.5\n",
      "23  2000      0.0      10.4\n",
      "24  2001      0.0      10.7\n",
      "25  2002      0.0      10.9\n",
      "26  2003      0.0      10.8\n",
      "27  2004      0.0      11.0\n",
      "28  2005      0.0      10.9\n",
      "29  2006      0.0      11.0\n",
      "30  2007      0.0      11.3\n",
      "31  2008      0.0      11.6\n",
      "32  2009      0.0      11.8\n",
      "33  2010      0.0      12.1\n",
      "34  2011      0.0      12.3\n",
      "35  2012      0.0      12.6\n",
      "36  2013      0.0      12.6\n",
      "37  2014      0.0      13.0\n",
      "38  2015      0.0      13.3\n",
      "39  2016      0.0      13.5\n",
      "40  2017      0.0      14.0\n",
      "41  2018      0.0      14.2\n",
      "42  1950      0.0      21.2\n",
      "43  1960      0.0      20.0\n",
      "44  1970      0.0      19.8\n",
      "45  1980      0.0      19.9\n",
      "46  1981      0.0      19.8\n",
      "47  1982      0.0      20.4\n",
      "48  1983      0.0      20.4\n",
      "49  1984      0.0      20.9\n"
     ]
    }
   ],
   "source": [
    "print(df_dsimps.head(50))\n"
   ]
  },
  {
   "cell_type": "markdown",
   "id": "435f3788",
   "metadata": {},
   "source": [
    "## Merging Data sets"
   ]
  },
  {
   "cell_type": "markdown",
   "id": "a3241c15",
   "metadata": {},
   "source": [
    "Storing a dataframe with simpler column names in a new dataframe. \n"
   ]
  },
  {
   "cell_type": "markdown",
   "id": "5292c646",
   "metadata": {},
   "source": [
    "Now let's try and merge dataframes. Notice that b\n"
   ]
  },
  {
   "cell_type": "code",
   "execution_count": 31,
   "id": "6d6fa32f",
   "metadata": {
    "ExecuteTime": {
     "end_time": "2023-08-05T03:11:25.421412Z",
     "start_time": "2023-08-05T03:11:25.404343Z"
    }
   },
   "outputs": [
    {
     "name": "stdout",
     "output_type": "stream",
     "text": [
      "      const         Entity Code  Year    Schizo      Depp      Alch\n",
      "6330    1.0  United States  USA  1990  0.467115  4.068695  3.111360\n",
      "6331    1.0  United States  USA  1991  0.472488  4.196610  3.022482\n",
      "6332    1.0  United States  USA  1992  0.477502  4.323224  2.937071\n",
      "6333    1.0  United States  USA  1993  0.481847  4.443956  2.858443\n",
      "6334    1.0  United States  USA  1994  0.485216  4.554388  2.790028\n",
      "6335    1.0  United States  USA  1995  0.487275  4.649917  2.735402\n",
      "6336    1.0  United States  USA  1996  0.488420  4.728877  2.680183\n",
      "6337    1.0  United States  USA  1997  0.489322  4.792297  2.616027\n",
      "6338    1.0  United States  USA  1998  0.490074  4.841765  2.555207\n",
      "6339    1.0  United States  USA  1999  0.490764  4.877494  2.510123\n",
      "6340    1.0  United States  USA  2000  0.491473  4.899882  2.493354\n",
      "6341    1.0  United States  USA  2001  0.493311  4.910241  2.499927\n",
      "6342    1.0  United States  USA  2002  0.496664  4.912093  2.513923\n",
      "6343    1.0  United States  USA  2003  0.500509  4.909044  2.531130\n",
      "6344    1.0  United States  USA  2004  0.503822  4.906857  2.547328\n",
      "6345    1.0  United States  USA  2005  0.505568  4.911215  2.558304\n",
      "6346    1.0  United States  USA  2006  0.505987  4.919271  2.563083\n",
      "6347    1.0  United States  USA  2007  0.506018  4.926512  2.564368\n",
      "6348    1.0  United States  USA  2008  0.505684  4.931658  2.563379\n",
      "6349    1.0  United States  USA  2009  0.505018  4.933798  2.561372\n",
      "    YEAR  AGE_NUM  ESTIMATE\n",
      "0   1950      0.0      13.2\n",
      "1   1960      0.0      12.5\n",
      "2   1970      0.0      13.1\n",
      "3   1980      0.0      12.2\n",
      "4   1981      0.0      12.3\n",
      "5   1982      0.0      12.5\n",
      "6   1983      0.0      12.4\n",
      "7   1984      0.0      12.6\n",
      "8   1985      0.0      12.5\n",
      "9   1986      0.0      13.0\n",
      "10  1987      0.0      12.8\n",
      "11  1988      0.0      12.5\n",
      "12  1989      0.0      12.3\n",
      "13  1990      0.0      12.5\n",
      "14  1991      0.0      12.3\n",
      "15  1992      0.0      12.0\n",
      "16  1993      0.0      12.1\n",
      "17  1994      0.0      11.9\n",
      "18  1995      0.0      11.8\n",
      "19  1996      0.0      11.5\n"
     ]
    }
   ],
   "source": [
    "print(df_united_inSad.head(20))\n",
    "print(df_dsimps.head(20))\n",
    "\n",
    "# Merge the dataframes (same as i had before)\n",
    "#merged_df = df_united_inSad.merge(df_dsimps, left_on='Year', right_on='YEAR', how='left')\n",
    "\n",
    "# Display the first few rows of the merged dataframe\n",
    "#merged_df.head()\n",
    "\n",
    "\n",
    "#merged_df = df_united_inSad.merge(df_dsimps, left_on='Year', right_on='YEAR', how='left')\n",
    "\n",
    "# Aggregate df_dsimps by year, taking the mean of the other columns\n",
    "df_dsimps_agg = df_dsimps.groupby('YEAR').mean().reset_index()\n",
    "\n",
    "# Merge the dataframes again\n",
    "merged_df_agg = df_united_inSad.merge(df_dsimps_agg, left_on='Year', right_on='YEAR', how='left')\n",
    "\n",
    "# Display the first few rows of the new merged dataframe\n",
    "merged_df_agg.head()\n",
    "\n",
    "\n",
    "#I want to keep the merge_df name for now (through the aid in getting unique values iwht GPTs help) 2023-08-04 20:11:07 \n",
    "#print(merged_df.head(10))\n",
    "merged_df=merged_df_agg\n",
    "\n",
    "#display(merged_df)\n"
   ]
  },
  {
   "cell_type": "markdown",
   "id": "51b27bd9",
   "metadata": {},
   "source": [
    "### Dropping the Entity\n",
    "\n",
    "Since we already know (in context) that everything in this latest dataframe is related to United States data, we can go ahead and drop that column. "
   ]
  },
  {
   "cell_type": "markdown",
   "id": "725d7dc3",
   "metadata": {},
   "source": [
    "## Models to Try (Random Forest)"
   ]
  },
  {
   "cell_type": "code",
   "execution_count": 32,
   "id": "cc7a5f1b",
   "metadata": {
    "ExecuteTime": {
     "end_time": "2023-08-05T03:11:29.374523Z",
     "start_time": "2023-08-05T03:11:29.290996Z"
    }
   },
   "outputs": [],
   "source": [
    "from sklearn.ensemble import RandomForestRegressor\n",
    "from sklearn.model_selection import train_test_split\n",
    "\n",
    "merged_df['ESTIMATE'] = merged_df['ESTIMATE'].fillna(merged_df['ESTIMATE'].mean())\n",
    "\n",
    "# Assume that you want to predict 'ESTIMATE' based on ['Schizo', 'Depp', 'Alch', 'AGE_NUM']\n",
    "X = merged_df[['Schizo', 'Depp', 'Alch', 'AGE_NUM']]\n",
    "y = merged_df['ESTIMATE']\n",
    "X = X.fillna(X.mean())\n",
    "\n",
    "# Split the data into training and testing sets\n",
    "X_train, X_test, y_train, y_test = train_test_split(X, y, test_size=0.2, random_state=42)\n",
    "\n",
    "# Initialize the model\n",
    "model = RandomForestRegressor(n_estimators=100, random_state=42)\n",
    "\n",
    "# Fit the model\n",
    "model.fit(X_train, y_train)\n",
    "\n",
    "# Make predictions\n",
    "predictions = model.predict(X_test)\n",
    "\n",
    "\n",
    "\n",
    "\n"
   ]
  },
  {
   "cell_type": "code",
   "execution_count": 33,
   "id": "95f637e5",
   "metadata": {
    "ExecuteTime": {
     "end_time": "2023-08-05T03:11:31.135718Z",
     "start_time": "2023-08-05T03:11:31.131233Z"
    }
   },
   "outputs": [],
   "source": [
    "merged_df.to_pickle('merged_df_mentalhealthde2023-08-04 18:53:36.pickle')\n"
   ]
  },
  {
   "cell_type": "markdown",
   "id": "deb4a881",
   "metadata": {},
   "source": [
    "<strong> Discusssion on Random Forests </strong>:\n",
    "\n",
    "Let's take a look at what random forests are (roughly speaking) as well as how to evaluate them and what plots can tell us about our models' accuracy. \n",
    "\n",
    "\n",
    "1. **Random Forest Model:** The Random Forest model is an ensemble learning method that operates by constructing multiple decision trees during training and outputting the mean prediction of the individual trees for regression tasks or the class that has the most votes for classification tasks. The main idea behind Random Forest is that a group of \"weak learners\" can come together to form a \"strong learner\". Each tree is trained on a random subset of the data and a random subset of the features, which helps to make the model robust to overfitting.\n",
    "\n",
    "2. **Model Evaluation Metrics:** The Mean Absolute Error (MAE), Mean Squared Error (MSE), and Root Mean Squared Error (RMSE) are all measures of the difference between the values predicted by the model and the actual values. \n",
    "\n",
    "   - **MAE** is the average of the absolute differences between the predicted and actual values. It gives an idea of how wrong the predictions were. The measure gives an equal weight to all errors, whether they are big or small. In contrast to the MSE, the MAE needs no square root to be understood and its unit is the same as the original data.\n",
    "\n",
    "   - **MSE** is similar to MAE but squares the differences before they are averaged. This means that larger errors are noted more than with MAE. This can be useful if you want to pay more attention to outliers.\n",
    "\n",
    "   - **RMSE** is the square root of MSE. It is more sensitive to larger errors than MAE, but its interpretation is easier than MSE because its units are the same as the original data.\n",
    "\n",
    "3. **Scatter Plot:** The scatter plot of actual vs predicted values is a graphical tool for comparing the model's predictions with the actual values. Each point on the plot represents a single data point (or instance). The x-coordinate of the point represents the actual value of the target variable for that instance, and the y-coordinate represents the value that the model predicted.\n",
    "\n",
    "   - If the model's predictions are perfect, all points would lie on a straight diagonal line going from the bottom left to the top right of the plot. This is because for every instance, the predicted value would be equal to the actual value, placing the point along this line.\n",
    "\n",
    "   - If the points are scattered far from this line, it means that there are instances where the model's predictions are far from the actual values. The further a point is from the line, the larger the error for that instance.\n",
    "\n",
    "   - If the points seem to form a pattern that deviates from the diagonal line (for example, if they form a curve), it might indicate that the model is systematically mispredicting certain values. This could suggest that the model could be improved, for example by using a different type of model or by engineering new features."
   ]
  },
  {
   "cell_type": "code",
   "execution_count": 21,
   "id": "c78da916",
   "metadata": {
    "ExecuteTime": {
     "end_time": "2023-08-05T02:45:08.267528Z",
     "start_time": "2023-08-05T02:45:08.264526Z"
    }
   },
   "outputs": [
    {
     "name": "stdout",
     "output_type": "stream",
     "text": [
      "Mean Absolute Error: 8.42745575493068\n",
      "Mean Squared Error: 136.25288581868358\n",
      "Root Mean Squared Error: 11.67274114416505\n"
     ]
    }
   ],
   "source": [
    "from sklearn.metrics import mean_absolute_error, mean_squared_error\n",
    "import numpy as np\n",
    "\n",
    "# Calculate errors\n",
    "mae = mean_absolute_error(y_test, predictions)\n",
    "mse = mean_squared_error(y_test, predictions)\n",
    "rmse = np.sqrt(mse)\n",
    "\n",
    "print('Mean Absolute Error:', mae)\n",
    "print('Mean Squared Error:', mse)\n",
    "print('Root Mean Squared Error:', rmse)\n"
   ]
  },
  {
   "cell_type": "code",
   "execution_count": 22,
   "id": "e5705aa0",
   "metadata": {
    "ExecuteTime": {
     "end_time": "2023-08-05T02:45:08.419640Z",
     "start_time": "2023-08-05T02:45:08.268365Z"
    }
   },
   "outputs": [
    {
     "data": {
      "image/png": "[encoded data removed]",
      "text/plain": [
       "<Figure size 640x480 with 1 Axes>"
      ]
     },
     "metadata": {},
     "output_type": "display_data"
    }
   ],
   "source": [
    "import matplotlib.pyplot as plt\n",
    "\n",
    "# Scatter plot of actual vs predicted values\n",
    "plt.scatter(y_test, predictions)\n",
    "plt.xlabel('Actual Values')\n",
    "plt.ylabel('Predicted Values')\n",
    "plt.title('Actual vs Predicted Values')\n",
    "plt.show()\n"
   ]
  },
  {
   "cell_type": "markdown",
   "id": "f0c408e9",
   "metadata": {},
   "source": [
    "## Arima Model:"
   ]
  },
  {
   "cell_type": "code",
   "execution_count": 23,
   "id": "cceecc82",
   "metadata": {
    "ExecuteTime": {
     "end_time": "2023-08-05T02:45:09.146450Z",
     "start_time": "2023-08-05T02:45:08.422575Z"
    }
   },
   "outputs": [
    {
     "name": "stdout",
     "output_type": "stream",
     "text": [
      "                               SARIMAX Results                                \n",
      "==============================================================================\n",
      "Dep. Variable:               ESTIMATE   No. Observations:                 4597\n",
      "Model:                 ARIMA(5, 1, 0)   Log Likelihood              -16728.300\n",
      "Date:                Fri, 04 Aug 2023   AIC                          33468.599\n",
      "Time:                        19:45:08   BIC                          33507.197\n",
      "Sample:                             0   HQIC                         33482.185\n",
      "                               - 4597                                         \n",
      "Covariance Type:                  opg                                         \n",
      "==============================================================================\n",
      "                 coef    std err          z      P>|z|      [0.025      0.975]\n",
      "------------------------------------------------------------------------------\n",
      "ar.L1         -0.3687      0.011    -32.898      0.000      -0.391      -0.347\n",
      "ar.L2         -0.1969      0.014    -14.382      0.000      -0.224      -0.170\n",
      "ar.L3         -0.1193      0.018     -6.782      0.000      -0.154      -0.085\n",
      "ar.L4         -0.2337      0.017    -13.845      0.000      -0.267      -0.201\n",
      "ar.L5         -0.1393      0.020     -7.094      0.000      -0.178      -0.101\n",
      "sigma2        84.8863      1.186     71.568      0.000      82.562      87.211\n",
      "===================================================================================\n",
      "Ljung-Box (L1) (Q):                   1.15   Jarque-Bera (JB):              5814.97\n",
      "Prob(Q):                              0.28   Prob(JB):                         0.00\n",
      "Heteroskedasticity (H):               0.97   Skew:                            -0.21\n",
      "Prob(H) (two-sided):                  0.58   Kurtosis:                         8.49\n",
      "===================================================================================\n",
      "\n",
      "Warnings:\n",
      "[1] Covariance matrix calculated using the outer product of gradients (complex-step).\n"
     ]
    },
    {
     "data": {
      "image/png": "[encoded data removed]",
      "text/plain": [
       "<Figure size 640x480 with 1 Axes>"
      ]
     },
     "metadata": {},
     "output_type": "display_data"
    }
   ],
   "source": [
    "\n",
    "from statsmodels.tsa.arima.model import ARIMA\n",
    "\n",
    "# Assume that you want to forecast 'ESTIMATE' and df is your DataFrame\n",
    "model = ARIMA(merged_df['ESTIMATE'], order=(5,1,0)) # (p,d,q) where p = periods taken for autoregressive model\n",
    "                                             # d = Integrated order, difference\n",
    "                                             # q = periods in moving average model\n",
    "model_fit = model.fit()\n",
    "print(model_fit.summary())\n",
    "\n",
    "# plot residual errors\n",
    "residuals = pd.DataFrame(model_fit.resid)\n",
    "residuals.plot()\n",
    "plt.show()\n"
   ]
  },
  {
   "cell_type": "markdown",
   "id": "4ab234ba",
   "metadata": {},
   "source": [
    "Let's examine the significance of each returned parameter. \n",
    "1. **Dep. Variable:** This is the dependent variable that the model is trying to predict. In your case, it's 'ESTIMATE'.\n",
    "\n",
    "2. **No. Observations:** This is the number of observations (i.e., data points or rows in your DataFrame) that the model was trained on.\n",
    "\n",
    "3. **Model:** This is the type of model that was used, along with the order of the AR (autoregressive), I (integrated), and MA (moving average) components. In your case, it's an ARIMA model with order (5, 1, 0).\n",
    "\n",
    "4. **Log Likelihood:** This is the log of the likelihood function, which is a measure of how well the model fits the data. The higher the log likelihood, the better the model fits the data.\n",
    "\n",
    "5. **AIC:** This stands for Akaike Information Criterion. It's a measure that takes into account both the goodness of fit of the model and the complexity of the model. The lower the AIC, the better the model is considered to be.\n",
    "\n",
    "6. **BIC:** This stands for Bayesian Information Criterion. Like AIC, it also takes into account the goodness of fit and the complexity of the model, but it penalizes models with more parameters more heavily than AIC. The lower the BIC, the better the model is considered to be.\n",
    "\n",
    "7. **HQIC:** This stands for Hannan-Quinn Information Criterion. It's another measure like AIC and BIC, but with a different penalty for the number of parameters. The lower the HQIC, the better the model is considered to be.\n",
    "\n",
    "8. **Covariance Type:** This indicates the method used to compute the covariance matrix of the parameters. In your case, it's 'opg' which stands for outer product of gradients.\n",
    "\n",
    "9. **coef:** These are the coefficients of the AR terms in the model. Each coefficient represents the impact of a one-unit increase in the corresponding lagged value of the dependent variable on the current value of the dependent variable.\n",
    "\n",
    "10. **std err:** These are the standard errors of the coefficients. The standard error is a measure of the statistical accuracy of an estimate.\n",
    "\n",
    "11. **z:** These are the z-scores of the coefficients. The z-score is the coefficient divided by its standard error.\n",
    "\n",
    "12. **P>|z|:** These are the p-values associated with the z-scores. The p-value is the probability of obtaining a result as extreme as the observed result, under the null hypothesis.\n",
    "\n",
    "13. **[0.025 0.975]:** These are the 95% confidence intervals for the coefficients. The confidence interval is a range of values, derived from the standard error, that is likely to contain the true value of the coefficient.\n",
    "\n",
    "14. **sigma2:** This is the variance of the residuals (i.e., the difference between the observed and predicted values).\n",
    "\n",
    "15. **Ljung-Box (L1) (Q):** This is a test statistic for the null hypothesis that the residuals are independently distributed. If the p-value (Prob(Q)) is small, you can reject the null hypothesis and conclude that the residuals are not independently distributed.\n",
    "\n",
    "16. **Jarque-Bera (JB):** This is a test statistic for the null hypothesis that the residuals are normally distributed. If the p-value (Prob(JB)) is small, you can reject the null hypothesis and conclude that the residuals are not normally distributed.\n",
    "\n",
    "17. **Heteroskedasticity (H):** This is a test statistic for the null hypothesis that the variance of the residuals is constant (i.e., the residuals are homoskedastic). If the p-value (Prob(H)) is small, you can reject the null hypothesis and conclude that the residuals are heteroskedastic.\n",
    "\n",
    "18. **Skew:** This is a measure of the asymmetry of the distribution of the residuals. A positive skew indicates that the residuals are skewed to the right, and a negative skew indicates that they are skewed to the left.\n",
    "\n",
    "19. **Kurtosis:** This is a measure of the \"tailedness\" of the distribution of the residuals. A high kurtosis indicates that the distribution has heavy tails and a sharp peak, and a low kurtosis indicates that the distribution has light tails and a flat peak."
   ]
  },
  {
   "cell_type": "markdown",
   "id": "af705793",
   "metadata": {},
   "source": [
    "Summary and next steps:\n",
    "\n",
    "Recall that the column \"Estimate\" came from the data on suicide rates in the US. So with that in mind let's come up with some interpretations of our work herein and future directions:\n",
    "\n",
    "1. Interpretations\n",
    "\n",
    "\n",
    "\n",
    "2. Future:\n",
    "    * merge another data set and explore more (our plan is stocks data from the three big tech companies)"
   ]
  }
 ],
 "metadata": {
  "hide_input": false,
  "kernelspec": {
   "display_name": "Python 3 (ipykernel)",
   "language": "python",
   "name": "python3"
  },
  "language_info": {
   "codemirror_mode": {
    "name": "ipython",
    "version": 3
   },
   "file_extension": ".py",
   "mimetype": "text/x-python",
   "name": "python",
   "nbconvert_exporter": "python",
   "pygments_lexer": "ipython3",
   "version": "3.11.4"
  },
  "toc": {
   "base_numbering": 1,
   "nav_menu": {},
   "number_sections": true,
   "sideBar": true,
   "skip_h1_title": false,
   "title_cell": "Table of Contents",
   "title_sidebar": "Contents",
   "toc_cell": true,
   "toc_position": {
    "height": "calc(100% - 180px)",
    "left": "10px",
    "top": "150px",
    "width": "261.818px"
   },
   "toc_section_display": true,
   "toc_window_display": false
  },
  "varInspector": {
   "cols": {
    "lenName": 16,
    "lenType": 16,
    "lenVar": 40
   },
   "kernels_config": {
    "python": {
     "delete_cmd_postfix": "",
     "delete_cmd_prefix": "del ",
     "library": "var_list.py",
     "varRefreshCmd": "print(var_dic_list())"
    },
    "r": {
     "delete_cmd_postfix": ") ",
     "delete_cmd_prefix": "rm(",
     "library": "var_list.r",
     "varRefreshCmd": "cat(var_dic_list()) "
    }
   },
   "types_to_exclude": [
    "module",
    "function",
    "builtin_function_or_method",
    "instance",
    "_Feature"
   ],
   "window_display": false
  }
 },
 "nbformat": 4,
 "nbformat_minor": 5
}
