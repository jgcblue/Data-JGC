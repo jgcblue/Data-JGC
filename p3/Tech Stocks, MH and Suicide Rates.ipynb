{
 "cells": [
  {
   "cell_type": "markdown",
   "id": "c79a2c37",
   "metadata": {},
   "source": [
    "# Introduction\n",
    "\n",
    "\n",
    "\n"
   ]
  },
  {
   "cell_type": "markdown",
   "id": "e40aeb8f",
   "metadata": {},
   "source": [
    "## Reading In Pickled DataFrames\n",
    "\n",
    "Our first step is to import the dataframes we are going to merge in this notebook."
   ]
  },
  {
   "cell_type": "code",
   "execution_count": 20,
   "id": "4b5983c4",
   "metadata": {
    "ExecuteTime": {
     "end_time": "2023-08-05T03:12:05.524013Z",
     "start_time": "2023-08-05T03:12:05.518167Z"
    }
   },
   "outputs": [],
   "source": [
    "import pandas as pd\n",
    "\n",
    "\n",
    "df = pd.read_pickle('merged_df_mentalhealthde2023-08-04 18:53:36.pickle')\n",
    "\n",
    "df_stock=pd.read_pickle('df_stocks.pkl')\n",
    "\n",
    "\n",
    "\n"
   ]
  },
  {
   "cell_type": "code",
   "execution_count": 19,
   "id": "5229baa9",
   "metadata": {
    "ExecuteTime": {
     "end_time": "2023-08-05T02:38:07.805266Z",
     "start_time": "2023-08-05T02:38:07.793978Z"
    }
   },
   "outputs": [
    {
     "name": "stdout",
     "output_type": "stream",
     "text": [
      "    const         Entity Code  Year    Schizo      Depp     Alch    YEAR  \\\n",
      "0     1.0  United States  USA  1990  0.467115  4.068695  3.11136  1990.0   \n",
      "1     1.0  United States  USA  1990  0.467115  4.068695  3.11136  1990.0   \n",
      "2     1.0  United States  USA  1990  0.467115  4.068695  3.11136  1990.0   \n",
      "3     1.0  United States  USA  1990  0.467115  4.068695  3.11136  1990.0   \n",
      "4     1.0  United States  USA  1990  0.467115  4.068695  3.11136  1990.0   \n",
      "..    ...            ...  ...   ...       ...       ...      ...     ...   \n",
      "95    1.0  United States  USA  1990  0.467115  4.068695  3.11136  1990.0   \n",
      "96    1.0  United States  USA  1990  0.467115  4.068695  3.11136  1990.0   \n",
      "97    1.0  United States  USA  1990  0.467115  4.068695  3.11136  1990.0   \n",
      "98    1.0  United States  USA  1990  0.467115  4.068695  3.11136  1990.0   \n",
      "99    1.0  United States  USA  1990  0.467115  4.068695  3.11136  1990.0   \n",
      "\n",
      "    AGE_NUM  ESTIMATE  \n",
      "0       0.0      12.5  \n",
      "1       0.0      21.5  \n",
      "2       0.0       4.8  \n",
      "3       0.0      22.8  \n",
      "4       0.0      12.8  \n",
      "..      ...       ...  \n",
      "95      5.0       6.8  \n",
      "96      2.0       2.3  \n",
      "97      3.0       3.8  \n",
      "98      4.0       2.9  \n",
      "99      5.0       1.9  \n",
      "\n",
      "[100 rows x 10 columns]\n"
     ]
    }
   ],
   "source": [
    "print(df.head(100))"
   ]
  },
  {
   "cell_type": "code",
   "execution_count": 14,
   "id": "e1f94ccc",
   "metadata": {
    "ExecuteTime": {
     "end_time": "2023-08-05T02:01:52.406094Z",
     "start_time": "2023-08-05T02:01:52.397865Z"
    }
   },
   "outputs": [
    {
     "name": "stdout",
     "output_type": "stream",
     "text": [
      "   const         Entity Code  Year    Schizo      Depp     Alch    YEAR  \\\n",
      "0    1.0  United States  USA  1990  0.467115  4.068695  3.11136  1990.0   \n",
      "1    1.0  United States  USA  1990  0.467115  4.068695  3.11136  1990.0   \n",
      "2    1.0  United States  USA  1990  0.467115  4.068695  3.11136  1990.0   \n",
      "3    1.0  United States  USA  1990  0.467115  4.068695  3.11136  1990.0   \n",
      "4    1.0  United States  USA  1990  0.467115  4.068695  3.11136  1990.0   \n",
      "\n",
      "   AGE_NUM  ESTIMATE  \n",
      "0      0.0      12.5  \n",
      "1      0.0      21.5  \n",
      "2      0.0       4.8  \n",
      "3      0.0      22.8  \n",
      "4      0.0      12.8  \n"
     ]
    }
   ],
   "source": [
    "print(df.head())"
   ]
  },
  {
   "cell_type": "code",
   "execution_count": 3,
   "id": "bcdb0317",
   "metadata": {
    "ExecuteTime": {
     "end_time": "2023-08-05T02:13:44.132988Z",
     "start_time": "2023-08-05T02:13:44.125715Z"
    }
   },
   "outputs": [
    {
     "name": "stdout",
     "output_type": "stream",
     "text": [
      "42\n",
      "  Ticker  Year  Average Close\n",
      "0   AAPL  2010       9.280088\n",
      "1   AAPL  2011      13.000154\n",
      "2   AAPL  2012      20.573204\n",
      "3   AAPL  2013      16.879817\n",
      "4   AAPL  2014      23.066164\n"
     ]
    }
   ],
   "source": [
    "#print(df_stock.describe())\n",
    "\n",
    "print(len(df_stock))\n",
    "print(df_stock.head())"
   ]
  },
  {
   "cell_type": "markdown",
   "id": "dc2922e4",
   "metadata": {},
   "source": [
    "Merge the DataFrames along year. "
   ]
  },
  {
   "cell_type": "code",
   "execution_count": 24,
   "id": "68aa7827",
   "metadata": {
    "ExecuteTime": {
     "end_time": "2023-08-05T03:27:55.776062Z",
     "start_time": "2023-08-05T03:27:55.763555Z"
    }
   },
   "outputs": [
    {
     "name": "stdout",
     "output_type": "stream",
     "text": [
      "   const         Entity Code  Year_x    Schizo      Depp      Alch    YEAR  \\\n",
      "0    1.0  United States  USA    2010  0.504039  4.932534  2.559565  2010.0   \n",
      "1    1.0  United States  USA    2010  0.504039  4.932534  2.559565  2010.0   \n",
      "2    1.0  United States  USA    2010  0.504039  4.932534  2.559565  2010.0   \n",
      "3    1.0  United States  USA    2011  0.501304  4.914326  2.556059  2011.0   \n",
      "4    1.0  United States  USA    2011  0.501304  4.914326  2.556059  2011.0   \n",
      "\n",
      "   AGE_NUM   ESTIMATE Ticker  Year_y  Average Close  \n",
      "0  2.68642  12.807097   AAPL    2010       9.280088  \n",
      "1  2.68642  12.807097   MSFT    2010      27.058571  \n",
      "2  2.68642  12.807097   NVDA    2010       3.390794  \n",
      "3  2.68642  12.600637   AAPL    2011      13.000154  \n",
      "4  2.68642  12.600637   MSFT    2011      26.052341  \n"
     ]
    },
    {
     "data": {
      "text/plain": [
       "Index(['const', 'Entity', 'Code', 'Year_x', 'Schizo', 'Depp', 'Alch', 'YEAR',\n",
       "       'AGE_NUM', 'ESTIMATE', 'Ticker', 'Year_y', 'Average Close'],\n",
       "      dtype='object')"
      ]
     },
     "execution_count": 24,
     "metadata": {},
     "output_type": "execute_result"
    }
   ],
   "source": [
    "merged_df = df.merge(df_stock, left_on='YEAR', right_on='Year', how='inner')\n",
    "\n",
    "#2023-08-04 20:15:51 \n",
    "\n",
    "print(merged_df.head())\n",
    "\n",
    "merged_df.columns"
   ]
  },
  {
   "cell_type": "code",
   "execution_count": 22,
   "id": "7349bddd",
   "metadata": {
    "ExecuteTime": {
     "end_time": "2023-08-05T03:12:18.202527Z",
     "start_time": "2023-08-05T03:12:18.060965Z"
    }
   },
   "outputs": [
    {
     "data": {
      "image/png": "[encoded data removed]",
      "text/plain": [
       "<Figure size 1000x600 with 1 Axes>"
      ]
     },
     "metadata": {},
     "output_type": "display_data"
    }
   ],
   "source": [
    "import matplotlib.pyplot as plt\n",
    "\n",
    "# Assuming your DataFrame is named df\n",
    "plt.figure(figsize=(10,6))\n",
    "plt.scatter(merged_df['Year_x'], merged_df['ESTIMATE'])\n",
    "plt.title('Year vs Suicide Rates')\n",
    "plt.xlabel('Year')\n",
    "plt.ylabel('Suicide Rates')\n",
    "plt.show()"
   ]
  },
  {
   "cell_type": "code",
   "execution_count": 23,
   "id": "e8589924",
   "metadata": {
    "ExecuteTime": {
     "end_time": "2023-08-05T03:12:24.636696Z",
     "start_time": "2023-08-05T03:12:24.614258Z"
    }
   },
   "outputs": [
    {
     "name": "stdout",
     "output_type": "stream",
     "text": [
      "{'AAPL':     const         Entity Code  Year_x    Schizo      Depp      Alch    YEAR  \\\n",
      "0     1.0  United States  USA    2010  0.504039  4.932534  2.559565  2010.0   \n",
      "3     1.0  United States  USA    2011  0.501304  4.914326  2.556059  2011.0   \n",
      "6     1.0  United States  USA    2012  0.496241  4.873906  2.549004  2012.0   \n",
      "9     1.0  United States  USA    2013  0.490129  4.825310  2.539524  2013.0   \n",
      "12    1.0  United States  USA    2014  0.484211  4.780310  2.528673  2014.0   \n",
      "15    1.0  United States  USA    2015  0.479682  4.751602  2.517357  2015.0   \n",
      "18    1.0  United States  USA    2016  0.473109  4.740377  2.500322  2016.0   \n",
      "21    1.0  United States  USA    2017  0.467995  4.735252  2.484274  2017.0   \n",
      "24    1.0  United States  USA    2018  0.467770  4.732570  2.481960  2018.0   \n",
      "\n",
      "     AGE_NUM   ESTIMATE Ticker  Year_y  Average Close  \n",
      "0   2.686420  12.807097   AAPL    2010       9.280088  \n",
      "3   2.686420  12.600637   AAPL    2011      13.000154  \n",
      "6   2.686420  13.290850   AAPL    2012      20.573204  \n",
      "9   2.686420  13.249032   AAPL    2013      16.879817  \n",
      "12  2.686420  13.447134   AAPL    2014      23.066164  \n",
      "15  2.686420  13.925786   AAPL    2015      30.010000  \n",
      "18  2.686420  14.350633   AAPL    2016      26.151002  \n",
      "21  2.686420  14.865409   AAPL    2017      37.637769  \n",
      "24  2.607971  15.290347   AAPL    2018      47.263357  , 'MSFT':     const         Entity Code  Year_x    Schizo      Depp      Alch    YEAR  \\\n",
      "1     1.0  United States  USA    2010  0.504039  4.932534  2.559565  2010.0   \n",
      "4     1.0  United States  USA    2011  0.501304  4.914326  2.556059  2011.0   \n",
      "7     1.0  United States  USA    2012  0.496241  4.873906  2.549004  2012.0   \n",
      "10    1.0  United States  USA    2013  0.490129  4.825310  2.539524  2013.0   \n",
      "13    1.0  United States  USA    2014  0.484211  4.780310  2.528673  2014.0   \n",
      "16    1.0  United States  USA    2015  0.479682  4.751602  2.517357  2015.0   \n",
      "19    1.0  United States  USA    2016  0.473109  4.740377  2.500322  2016.0   \n",
      "22    1.0  United States  USA    2017  0.467995  4.735252  2.484274  2017.0   \n",
      "25    1.0  United States  USA    2018  0.467770  4.732570  2.481960  2018.0   \n",
      "\n",
      "     AGE_NUM   ESTIMATE Ticker  Year_y  Average Close  \n",
      "1   2.686420  12.807097   MSFT    2010      27.058571  \n",
      "4   2.686420  12.600637   MSFT    2011      26.052341  \n",
      "7   2.686420  13.290850   MSFT    2012      29.820960  \n",
      "10  2.686420  13.249032   MSFT    2013      32.491905  \n",
      "13  2.686420  13.447134   MSFT    2014      42.453492  \n",
      "16  2.686420  13.925786   MSFT    2015      46.714286  \n",
      "19  2.686420  14.350633   MSFT    2016      55.259325  \n",
      "22  2.686420  14.865409   MSFT    2017      71.984024  \n",
      "25  2.607971  15.290347   MSFT    2018     101.033984  , 'NVDA':     const         Entity Code  Year_x    Schizo      Depp      Alch    YEAR  \\\n",
      "2     1.0  United States  USA    2010  0.504039  4.932534  2.559565  2010.0   \n",
      "5     1.0  United States  USA    2011  0.501304  4.914326  2.556059  2011.0   \n",
      "8     1.0  United States  USA    2012  0.496241  4.873906  2.549004  2012.0   \n",
      "11    1.0  United States  USA    2013  0.490129  4.825310  2.539524  2013.0   \n",
      "14    1.0  United States  USA    2014  0.484211  4.780310  2.528673  2014.0   \n",
      "17    1.0  United States  USA    2015  0.479682  4.751602  2.517357  2015.0   \n",
      "20    1.0  United States  USA    2016  0.473109  4.740377  2.500322  2016.0   \n",
      "23    1.0  United States  USA    2017  0.467995  4.735252  2.484274  2017.0   \n",
      "26    1.0  United States  USA    2018  0.467770  4.732570  2.481960  2018.0   \n",
      "\n",
      "     AGE_NUM   ESTIMATE Ticker  Year_y  Average Close  \n",
      "2   2.686420  12.807097   NVDA    2010       3.390794  \n",
      "5   2.686420  12.600637   NVDA    2011       4.221885  \n",
      "8   2.686420  13.290850   NVDA    2012       3.376970  \n",
      "11  2.686420  13.249032   NVDA    2013       3.547282  \n",
      "14  2.686420  13.447134   NVDA    2014       4.636766  \n",
      "17  2.686420  13.925786   NVDA    2015       5.929563  \n",
      "20  2.686420  14.350633   NVDA    2016      13.440298  \n",
      "23  2.686420  14.865409   NVDA    2017      37.445926  \n",
      "26  2.607971  15.290347   NVDA    2018      58.096036  }\n"
     ]
    }
   ],
   "source": [
    "def create_sub_dfs(df, column):\n",
    "    unique_values = df[column].unique()\n",
    "    dfs = {}\n",
    "    for value in unique_values:\n",
    "        dfs[value] = df[df[column] == value]\n",
    "    return dfs\n",
    "\n",
    "# Usage:\n",
    "sub_dfs = create_sub_dfs(merged_df, 'Ticker')\n",
    "\n",
    "print(sub_dfs)\n"
   ]
  },
  {
   "cell_type": "code",
   "execution_count": 17,
   "id": "ec4d2ee7",
   "metadata": {
    "ExecuteTime": {
     "end_time": "2023-08-05T02:36:45.189585Z",
     "start_time": "2023-08-05T02:36:45.165883Z"
    }
   },
   "outputs": [
    {
     "data": {
      "text/html": [
       "<div>\n",
       "<style scoped>\n",
       "    .dataframe tbody tr th:only-of-type {\n",
       "        vertical-align: middle;\n",
       "    }\n",
       "\n",
       "    .dataframe tbody tr th {\n",
       "        vertical-align: top;\n",
       "    }\n",
       "\n",
       "    .dataframe thead th {\n",
       "        text-align: right;\n",
       "    }\n",
       "</style>\n",
       "<table border=\"1\" class=\"dataframe\">\n",
       "  <thead>\n",
       "    <tr style=\"text-align: right;\">\n",
       "      <th></th>\n",
       "      <th>const</th>\n",
       "      <th>Entity</th>\n",
       "      <th>Code</th>\n",
       "      <th>Year_x</th>\n",
       "      <th>Schizo</th>\n",
       "      <th>Depp</th>\n",
       "      <th>Alch</th>\n",
       "      <th>YEAR</th>\n",
       "      <th>AGE_NUM</th>\n",
       "      <th>ESTIMATE</th>\n",
       "      <th>Ticker</th>\n",
       "      <th>Year_y</th>\n",
       "      <th>Average Close</th>\n",
       "    </tr>\n",
       "  </thead>\n",
       "  <tbody>\n",
       "    <tr>\n",
       "      <th>0</th>\n",
       "      <td>1.0</td>\n",
       "      <td>United States</td>\n",
       "      <td>USA</td>\n",
       "      <td>2010</td>\n",
       "      <td>0.504039</td>\n",
       "      <td>4.932534</td>\n",
       "      <td>2.559565</td>\n",
       "      <td>2010.0</td>\n",
       "      <td>0.0</td>\n",
       "      <td>12.1</td>\n",
       "      <td>AAPL</td>\n",
       "      <td>2010</td>\n",
       "      <td>9.280088</td>\n",
       "    </tr>\n",
       "    <tr>\n",
       "      <th>3</th>\n",
       "      <td>1.0</td>\n",
       "      <td>United States</td>\n",
       "      <td>USA</td>\n",
       "      <td>2010</td>\n",
       "      <td>0.504039</td>\n",
       "      <td>4.932534</td>\n",
       "      <td>2.559565</td>\n",
       "      <td>2010.0</td>\n",
       "      <td>0.0</td>\n",
       "      <td>19.8</td>\n",
       "      <td>AAPL</td>\n",
       "      <td>2010</td>\n",
       "      <td>9.280088</td>\n",
       "    </tr>\n",
       "    <tr>\n",
       "      <th>6</th>\n",
       "      <td>1.0</td>\n",
       "      <td>United States</td>\n",
       "      <td>USA</td>\n",
       "      <td>2010</td>\n",
       "      <td>0.504039</td>\n",
       "      <td>4.932534</td>\n",
       "      <td>2.559565</td>\n",
       "      <td>2010.0</td>\n",
       "      <td>0.0</td>\n",
       "      <td>5.0</td>\n",
       "      <td>AAPL</td>\n",
       "      <td>2010</td>\n",
       "      <td>9.280088</td>\n",
       "    </tr>\n",
       "    <tr>\n",
       "      <th>9</th>\n",
       "      <td>1.0</td>\n",
       "      <td>United States</td>\n",
       "      <td>USA</td>\n",
       "      <td>2010</td>\n",
       "      <td>0.504039</td>\n",
       "      <td>4.932534</td>\n",
       "      <td>2.559565</td>\n",
       "      <td>2010.0</td>\n",
       "      <td>0.0</td>\n",
       "      <td>22.0</td>\n",
       "      <td>AAPL</td>\n",
       "      <td>2010</td>\n",
       "      <td>9.280088</td>\n",
       "    </tr>\n",
       "    <tr>\n",
       "      <th>12</th>\n",
       "      <td>1.0</td>\n",
       "      <td>United States</td>\n",
       "      <td>USA</td>\n",
       "      <td>2010</td>\n",
       "      <td>0.504039</td>\n",
       "      <td>4.932534</td>\n",
       "      <td>2.559565</td>\n",
       "      <td>2010.0</td>\n",
       "      <td>0.0</td>\n",
       "      <td>9.1</td>\n",
       "      <td>AAPL</td>\n",
       "      <td>2010</td>\n",
       "      <td>9.280088</td>\n",
       "    </tr>\n",
       "    <tr>\n",
       "      <th>...</th>\n",
       "      <td>...</td>\n",
       "      <td>...</td>\n",
       "      <td>...</td>\n",
       "      <td>...</td>\n",
       "      <td>...</td>\n",
       "      <td>...</td>\n",
       "      <td>...</td>\n",
       "      <td>...</td>\n",
       "      <td>...</td>\n",
       "      <td>...</td>\n",
       "      <td>...</td>\n",
       "      <td>...</td>\n",
       "      <td>...</td>\n",
       "    </tr>\n",
       "    <tr>\n",
       "      <th>4701</th>\n",
       "      <td>1.0</td>\n",
       "      <td>United States</td>\n",
       "      <td>USA</td>\n",
       "      <td>2018</td>\n",
       "      <td>0.467770</td>\n",
       "      <td>4.732570</td>\n",
       "      <td>2.481960</td>\n",
       "      <td>2018.0</td>\n",
       "      <td>5.0</td>\n",
       "      <td>1.3</td>\n",
       "      <td>AAPL</td>\n",
       "      <td>2018</td>\n",
       "      <td>47.263357</td>\n",
       "    </tr>\n",
       "    <tr>\n",
       "      <th>4704</th>\n",
       "      <td>1.0</td>\n",
       "      <td>United States</td>\n",
       "      <td>USA</td>\n",
       "      <td>2018</td>\n",
       "      <td>0.467770</td>\n",
       "      <td>4.732570</td>\n",
       "      <td>2.481960</td>\n",
       "      <td>2018.0</td>\n",
       "      <td>2.0</td>\n",
       "      <td>4.1</td>\n",
       "      <td>AAPL</td>\n",
       "      <td>2018</td>\n",
       "      <td>47.263357</td>\n",
       "    </tr>\n",
       "    <tr>\n",
       "      <th>4707</th>\n",
       "      <td>1.0</td>\n",
       "      <td>United States</td>\n",
       "      <td>USA</td>\n",
       "      <td>2018</td>\n",
       "      <td>0.467770</td>\n",
       "      <td>4.732570</td>\n",
       "      <td>2.481960</td>\n",
       "      <td>2018.0</td>\n",
       "      <td>3.0</td>\n",
       "      <td>4.4</td>\n",
       "      <td>AAPL</td>\n",
       "      <td>2018</td>\n",
       "      <td>47.263357</td>\n",
       "    </tr>\n",
       "    <tr>\n",
       "      <th>4710</th>\n",
       "      <td>1.0</td>\n",
       "      <td>United States</td>\n",
       "      <td>USA</td>\n",
       "      <td>2018</td>\n",
       "      <td>0.467770</td>\n",
       "      <td>4.732570</td>\n",
       "      <td>2.481960</td>\n",
       "      <td>2018.0</td>\n",
       "      <td>4.0</td>\n",
       "      <td>3.2</td>\n",
       "      <td>AAPL</td>\n",
       "      <td>2018</td>\n",
       "      <td>47.263357</td>\n",
       "    </tr>\n",
       "    <tr>\n",
       "      <th>4713</th>\n",
       "      <td>1.0</td>\n",
       "      <td>United States</td>\n",
       "      <td>USA</td>\n",
       "      <td>2018</td>\n",
       "      <td>0.467770</td>\n",
       "      <td>4.732570</td>\n",
       "      <td>2.481960</td>\n",
       "      <td>2018.0</td>\n",
       "      <td>5.0</td>\n",
       "      <td>1.6</td>\n",
       "      <td>AAPL</td>\n",
       "      <td>2018</td>\n",
       "      <td>47.263357</td>\n",
       "    </tr>\n",
       "  </tbody>\n",
       "</table>\n",
       "<p>1572 rows × 13 columns</p>\n",
       "</div>"
      ],
      "text/plain": [
       "      const         Entity Code  Year_x    Schizo      Depp      Alch    YEAR  \\\n",
       "0       1.0  United States  USA    2010  0.504039  4.932534  2.559565  2010.0   \n",
       "3       1.0  United States  USA    2010  0.504039  4.932534  2.559565  2010.0   \n",
       "6       1.0  United States  USA    2010  0.504039  4.932534  2.559565  2010.0   \n",
       "9       1.0  United States  USA    2010  0.504039  4.932534  2.559565  2010.0   \n",
       "12      1.0  United States  USA    2010  0.504039  4.932534  2.559565  2010.0   \n",
       "...     ...            ...  ...     ...       ...       ...       ...     ...   \n",
       "4701    1.0  United States  USA    2018  0.467770  4.732570  2.481960  2018.0   \n",
       "4704    1.0  United States  USA    2018  0.467770  4.732570  2.481960  2018.0   \n",
       "4707    1.0  United States  USA    2018  0.467770  4.732570  2.481960  2018.0   \n",
       "4710    1.0  United States  USA    2018  0.467770  4.732570  2.481960  2018.0   \n",
       "4713    1.0  United States  USA    2018  0.467770  4.732570  2.481960  2018.0   \n",
       "\n",
       "      AGE_NUM  ESTIMATE Ticker  Year_y  Average Close  \n",
       "0         0.0      12.1   AAPL    2010       9.280088  \n",
       "3         0.0      19.8   AAPL    2010       9.280088  \n",
       "6         0.0       5.0   AAPL    2010       9.280088  \n",
       "9         0.0      22.0   AAPL    2010       9.280088  \n",
       "12        0.0       9.1   AAPL    2010       9.280088  \n",
       "...       ...       ...    ...     ...            ...  \n",
       "4701      5.0       1.3   AAPL    2018      47.263357  \n",
       "4704      2.0       4.1   AAPL    2018      47.263357  \n",
       "4707      3.0       4.4   AAPL    2018      47.263357  \n",
       "4710      4.0       3.2   AAPL    2018      47.263357  \n",
       "4713      5.0       1.6   AAPL    2018      47.263357  \n",
       "\n",
       "[1572 rows x 13 columns]"
      ]
     },
     "execution_count": 17,
     "metadata": {},
     "output_type": "execute_result"
    }
   ],
   "source": [
    "type(sub_dfs)\n",
    "\n",
    "sub_dfs.keys()\n",
    "\n",
    "apple_df=sub_dfs['AAPL']\n",
    "\n",
    "type(apple_df)\n",
    "\n",
    "apple_df.head(6000)"
   ]
  }
 ],
 "metadata": {
  "hide_input": false,
  "kernelspec": {
   "display_name": "Python 3 (ipykernel)",
   "language": "python",
   "name": "python3"
  },
  "language_info": {
   "codemirror_mode": {
    "name": "ipython",
    "version": 3
   },
   "file_extension": ".py",
   "mimetype": "text/x-python",
   "name": "python",
   "nbconvert_exporter": "python",
   "pygments_lexer": "ipython3",
   "version": "3.11.4"
  },
  "toc": {
   "base_numbering": 1,
   "nav_menu": {},
   "number_sections": true,
   "sideBar": true,
   "skip_h1_title": false,
   "title_cell": "Table of Contents",
   "title_sidebar": "Contents",
   "toc_cell": false,
   "toc_position": {},
   "toc_section_display": true,
   "toc_window_display": false
  },
  "varInspector": {
   "cols": {
    "lenName": 16,
    "lenType": 16,
    "lenVar": 40
   },
   "kernels_config": {
    "python": {
     "delete_cmd_postfix": "",
     "delete_cmd_prefix": "del ",
     "library": "var_list.py",
     "varRefreshCmd": "print(var_dic_list())"
    },
    "r": {
     "delete_cmd_postfix": ") ",
     "delete_cmd_prefix": "rm(",
     "library": "var_list.r",
     "varRefreshCmd": "cat(var_dic_list()) "
    }
   },
   "types_to_exclude": [
    "module",
    "function",
    "builtin_function_or_method",
    "instance",
    "_Feature"
   ],
   "window_display": false
  }
 },
 "nbformat": 4,
 "nbformat_minor": 5
}
